{
  "nbformat": 4,
  "nbformat_minor": 0,
  "metadata": {
    "colab": {
      "name": "Tijuana Houses Regression Project.ipynb",
      "provenance": [],
      "collapsed_sections": []
    },
    "kernelspec": {
      "name": "python3",
      "display_name": "Python 3"
    },
    "language_info": {
      "name": "python"
    }
  },
  "cells": [
    {
      "cell_type": "code",
      "metadata": {
        "id": "o_NUWJBSqGch"
      },
      "source": [
        "import pandas as pd\n",
        "import numpy as np\n",
        "import seaborn as sns\n",
        "import matplotlib.pyplot as plt\n"
      ],
      "execution_count": null,
      "outputs": []
    },
    {
      "cell_type": "code",
      "metadata": {
        "id": "lIKJPcJSqbOI"
      },
      "source": [
        "url = 'https://raw.githubusercontent.com/IvanVC21/Tijuana-house-prices/main/tijuana_prices.csv'\n",
        "df = pd.read_csv(url)"
      ],
      "execution_count": null,
      "outputs": []
    },
    {
      "cell_type": "code",
      "metadata": {
        "colab": {
          "base_uri": "https://localhost:8080/",
          "height": 363
        },
        "id": "C-Qd4EDBqgt4",
        "outputId": "1292321c-f646-45cb-ff93-3e873c64ab3c"
      },
      "source": [
        "df.head(10)"
      ],
      "execution_count": null,
      "outputs": [
        {
          "output_type": "execute_result",
          "data": {
            "text/plain": [
              "       price currency  bedrooms  bathrooms  parkingSpots  propertySize  \\\n",
              "0   150000.0      USD       4.0        2.0           3.0         130.0   \n",
              "1   774900.0      USD       3.0        3.0           2.0         550.0   \n",
              "2  3000000.0       MN       3.0        2.0           2.0         107.0   \n",
              "3   385000.0      USD       4.0        3.0           3.0         350.0   \n",
              "4    70000.0      USD       2.0        1.0           1.0          80.0   \n",
              "5   528000.0      USD       4.0        2.0           2.0         398.0   \n",
              "6  4200000.0       MN       3.0        2.0           2.0         150.0   \n",
              "7   900000.0       MN       2.0        1.0           1.0         142.0   \n",
              "8  2550000.0       MN       3.0        2.0           2.0         140.0   \n",
              "9  2250000.0       MN       3.0        2.0           2.0         103.0   \n",
              "\n",
              "                      neighborhood        lat         lon  \n",
              "0            Las Americas, Tijuana  32.500975 -116.896457  \n",
              "1  Hacienda Agua Caliente, Tijuana  32.488683 -116.999223  \n",
              "2       Lomas de La Presa, Tijuana  32.448786 -116.924895  \n",
              "3       Xicotencatl Leyva, Tijuana  32.538363 -116.931519  \n",
              "4                    Vaim, Tijuana  32.493642 -116.942191  \n",
              "5       Playas de Tijuana, Tijuana  32.511290 -117.091176  \n",
              "6                    Roma, Tijuana  32.531941 -117.037896  \n",
              "7   Real de San Francisco, Tijuana  32.486000 -116.854223  \n",
              "8       Lomas de La Presa, Tijuana  32.448786 -116.924895  \n",
              "9                Santa Fe, Tijuana  32.494586 -116.962982  "
            ],
            "text/html": [
              "\n",
              "  <div id=\"df-6e3ff6bb-7237-4fb2-a494-24a806921eba\">\n",
              "    <div class=\"colab-df-container\">\n",
              "      <div>\n",
              "<style scoped>\n",
              "    .dataframe tbody tr th:only-of-type {\n",
              "        vertical-align: middle;\n",
              "    }\n",
              "\n",
              "    .dataframe tbody tr th {\n",
              "        vertical-align: top;\n",
              "    }\n",
              "\n",
              "    .dataframe thead th {\n",
              "        text-align: right;\n",
              "    }\n",
              "</style>\n",
              "<table border=\"1\" class=\"dataframe\">\n",
              "  <thead>\n",
              "    <tr style=\"text-align: right;\">\n",
              "      <th></th>\n",
              "      <th>price</th>\n",
              "      <th>currency</th>\n",
              "      <th>bedrooms</th>\n",
              "      <th>bathrooms</th>\n",
              "      <th>parkingSpots</th>\n",
              "      <th>propertySize</th>\n",
              "      <th>neighborhood</th>\n",
              "      <th>lat</th>\n",
              "      <th>lon</th>\n",
              "    </tr>\n",
              "  </thead>\n",
              "  <tbody>\n",
              "    <tr>\n",
              "      <th>0</th>\n",
              "      <td>150000.0</td>\n",
              "      <td>USD</td>\n",
              "      <td>4.0</td>\n",
              "      <td>2.0</td>\n",
              "      <td>3.0</td>\n",
              "      <td>130.0</td>\n",
              "      <td>Las Americas, Tijuana</td>\n",
              "      <td>32.500975</td>\n",
              "      <td>-116.896457</td>\n",
              "    </tr>\n",
              "    <tr>\n",
              "      <th>1</th>\n",
              "      <td>774900.0</td>\n",
              "      <td>USD</td>\n",
              "      <td>3.0</td>\n",
              "      <td>3.0</td>\n",
              "      <td>2.0</td>\n",
              "      <td>550.0</td>\n",
              "      <td>Hacienda Agua Caliente, Tijuana</td>\n",
              "      <td>32.488683</td>\n",
              "      <td>-116.999223</td>\n",
              "    </tr>\n",
              "    <tr>\n",
              "      <th>2</th>\n",
              "      <td>3000000.0</td>\n",
              "      <td>MN</td>\n",
              "      <td>3.0</td>\n",
              "      <td>2.0</td>\n",
              "      <td>2.0</td>\n",
              "      <td>107.0</td>\n",
              "      <td>Lomas de La Presa, Tijuana</td>\n",
              "      <td>32.448786</td>\n",
              "      <td>-116.924895</td>\n",
              "    </tr>\n",
              "    <tr>\n",
              "      <th>3</th>\n",
              "      <td>385000.0</td>\n",
              "      <td>USD</td>\n",
              "      <td>4.0</td>\n",
              "      <td>3.0</td>\n",
              "      <td>3.0</td>\n",
              "      <td>350.0</td>\n",
              "      <td>Xicotencatl Leyva, Tijuana</td>\n",
              "      <td>32.538363</td>\n",
              "      <td>-116.931519</td>\n",
              "    </tr>\n",
              "    <tr>\n",
              "      <th>4</th>\n",
              "      <td>70000.0</td>\n",
              "      <td>USD</td>\n",
              "      <td>2.0</td>\n",
              "      <td>1.0</td>\n",
              "      <td>1.0</td>\n",
              "      <td>80.0</td>\n",
              "      <td>Vaim, Tijuana</td>\n",
              "      <td>32.493642</td>\n",
              "      <td>-116.942191</td>\n",
              "    </tr>\n",
              "    <tr>\n",
              "      <th>5</th>\n",
              "      <td>528000.0</td>\n",
              "      <td>USD</td>\n",
              "      <td>4.0</td>\n",
              "      <td>2.0</td>\n",
              "      <td>2.0</td>\n",
              "      <td>398.0</td>\n",
              "      <td>Playas de Tijuana, Tijuana</td>\n",
              "      <td>32.511290</td>\n",
              "      <td>-117.091176</td>\n",
              "    </tr>\n",
              "    <tr>\n",
              "      <th>6</th>\n",
              "      <td>4200000.0</td>\n",
              "      <td>MN</td>\n",
              "      <td>3.0</td>\n",
              "      <td>2.0</td>\n",
              "      <td>2.0</td>\n",
              "      <td>150.0</td>\n",
              "      <td>Roma, Tijuana</td>\n",
              "      <td>32.531941</td>\n",
              "      <td>-117.037896</td>\n",
              "    </tr>\n",
              "    <tr>\n",
              "      <th>7</th>\n",
              "      <td>900000.0</td>\n",
              "      <td>MN</td>\n",
              "      <td>2.0</td>\n",
              "      <td>1.0</td>\n",
              "      <td>1.0</td>\n",
              "      <td>142.0</td>\n",
              "      <td>Real de San Francisco, Tijuana</td>\n",
              "      <td>32.486000</td>\n",
              "      <td>-116.854223</td>\n",
              "    </tr>\n",
              "    <tr>\n",
              "      <th>8</th>\n",
              "      <td>2550000.0</td>\n",
              "      <td>MN</td>\n",
              "      <td>3.0</td>\n",
              "      <td>2.0</td>\n",
              "      <td>2.0</td>\n",
              "      <td>140.0</td>\n",
              "      <td>Lomas de La Presa, Tijuana</td>\n",
              "      <td>32.448786</td>\n",
              "      <td>-116.924895</td>\n",
              "    </tr>\n",
              "    <tr>\n",
              "      <th>9</th>\n",
              "      <td>2250000.0</td>\n",
              "      <td>MN</td>\n",
              "      <td>3.0</td>\n",
              "      <td>2.0</td>\n",
              "      <td>2.0</td>\n",
              "      <td>103.0</td>\n",
              "      <td>Santa Fe, Tijuana</td>\n",
              "      <td>32.494586</td>\n",
              "      <td>-116.962982</td>\n",
              "    </tr>\n",
              "  </tbody>\n",
              "</table>\n",
              "</div>\n",
              "      <button class=\"colab-df-convert\" onclick=\"convertToInteractive('df-6e3ff6bb-7237-4fb2-a494-24a806921eba')\"\n",
              "              title=\"Convert this dataframe to an interactive table.\"\n",
              "              style=\"display:none;\">\n",
              "        \n",
              "  <svg xmlns=\"http://www.w3.org/2000/svg\" height=\"24px\"viewBox=\"0 0 24 24\"\n",
              "       width=\"24px\">\n",
              "    <path d=\"M0 0h24v24H0V0z\" fill=\"none\"/>\n",
              "    <path d=\"M18.56 5.44l.94 2.06.94-2.06 2.06-.94-2.06-.94-.94-2.06-.94 2.06-2.06.94zm-11 1L8.5 8.5l.94-2.06 2.06-.94-2.06-.94L8.5 2.5l-.94 2.06-2.06.94zm10 10l.94 2.06.94-2.06 2.06-.94-2.06-.94-.94-2.06-.94 2.06-2.06.94z\"/><path d=\"M17.41 7.96l-1.37-1.37c-.4-.4-.92-.59-1.43-.59-.52 0-1.04.2-1.43.59L10.3 9.45l-7.72 7.72c-.78.78-.78 2.05 0 2.83L4 21.41c.39.39.9.59 1.41.59.51 0 1.02-.2 1.41-.59l7.78-7.78 2.81-2.81c.8-.78.8-2.07 0-2.86zM5.41 20L4 18.59l7.72-7.72 1.47 1.35L5.41 20z\"/>\n",
              "  </svg>\n",
              "      </button>\n",
              "      \n",
              "  <style>\n",
              "    .colab-df-container {\n",
              "      display:flex;\n",
              "      flex-wrap:wrap;\n",
              "      gap: 12px;\n",
              "    }\n",
              "\n",
              "    .colab-df-convert {\n",
              "      background-color: #E8F0FE;\n",
              "      border: none;\n",
              "      border-radius: 50%;\n",
              "      cursor: pointer;\n",
              "      display: none;\n",
              "      fill: #1967D2;\n",
              "      height: 32px;\n",
              "      padding: 0 0 0 0;\n",
              "      width: 32px;\n",
              "    }\n",
              "\n",
              "    .colab-df-convert:hover {\n",
              "      background-color: #E2EBFA;\n",
              "      box-shadow: 0px 1px 2px rgba(60, 64, 67, 0.3), 0px 1px 3px 1px rgba(60, 64, 67, 0.15);\n",
              "      fill: #174EA6;\n",
              "    }\n",
              "\n",
              "    [theme=dark] .colab-df-convert {\n",
              "      background-color: #3B4455;\n",
              "      fill: #D2E3FC;\n",
              "    }\n",
              "\n",
              "    [theme=dark] .colab-df-convert:hover {\n",
              "      background-color: #434B5C;\n",
              "      box-shadow: 0px 1px 3px 1px rgba(0, 0, 0, 0.15);\n",
              "      filter: drop-shadow(0px 1px 2px rgba(0, 0, 0, 0.3));\n",
              "      fill: #FFFFFF;\n",
              "    }\n",
              "  </style>\n",
              "\n",
              "      <script>\n",
              "        const buttonEl =\n",
              "          document.querySelector('#df-6e3ff6bb-7237-4fb2-a494-24a806921eba button.colab-df-convert');\n",
              "        buttonEl.style.display =\n",
              "          google.colab.kernel.accessAllowed ? 'block' : 'none';\n",
              "\n",
              "        async function convertToInteractive(key) {\n",
              "          const element = document.querySelector('#df-6e3ff6bb-7237-4fb2-a494-24a806921eba');\n",
              "          const dataTable =\n",
              "            await google.colab.kernel.invokeFunction('convertToInteractive',\n",
              "                                                     [key], {});\n",
              "          if (!dataTable) return;\n",
              "\n",
              "          const docLinkHtml = 'Like what you see? Visit the ' +\n",
              "            '<a target=\"_blank\" href=https://colab.research.google.com/notebooks/data_table.ipynb>data table notebook</a>'\n",
              "            + ' to learn more about interactive tables.';\n",
              "          element.innerHTML = '';\n",
              "          dataTable['output_type'] = 'display_data';\n",
              "          await google.colab.output.renderOutput(dataTable, element);\n",
              "          const docLink = document.createElement('div');\n",
              "          docLink.innerHTML = docLinkHtml;\n",
              "          element.appendChild(docLink);\n",
              "        }\n",
              "      </script>\n",
              "    </div>\n",
              "  </div>\n",
              "  "
            ]
          },
          "metadata": {},
          "execution_count": 3
        }
      ]
    },
    {
      "cell_type": "code",
      "metadata": {
        "colab": {
          "base_uri": "https://localhost:8080/"
        },
        "id": "HzgEY6rpqptD",
        "outputId": "cbdf9fe6-ba6c-4627-8732-6f212849712e"
      },
      "source": [
        "df.shape"
      ],
      "execution_count": null,
      "outputs": [
        {
          "output_type": "execute_result",
          "data": {
            "text/plain": [
              "(888, 9)"
            ]
          },
          "metadata": {},
          "execution_count": 4
        }
      ]
    },
    {
      "cell_type": "code",
      "metadata": {
        "colab": {
          "base_uri": "https://localhost:8080/"
        },
        "id": "1q5SwS1mqtlM",
        "outputId": "365fda35-27c4-4e31-86a2-24b1d8d67c4b"
      },
      "source": [
        "df.isnull().sum().sort_values(ascending=False).head()"
      ],
      "execution_count": null,
      "outputs": [
        {
          "output_type": "execute_result",
          "data": {
            "text/plain": [
              "parkingSpots    89\n",
              "bathrooms       21\n",
              "bedrooms        11\n",
              "propertySize     3\n",
              "price            1\n",
              "dtype: int64"
            ]
          },
          "metadata": {},
          "execution_count": 5
        }
      ]
    },
    {
      "cell_type": "code",
      "metadata": {
        "id": "vKNvyYPGrTOx"
      },
      "source": [
        "df['parkingSpots'].fillna(1 , inplace=True)"
      ],
      "execution_count": null,
      "outputs": []
    },
    {
      "cell_type": "code",
      "metadata": {
        "colab": {
          "base_uri": "https://localhost:8080/"
        },
        "id": "ANqzNdC0r1Wm",
        "outputId": "79e8b256-e142-45a5-b9db-ce15db61cfa2"
      },
      "source": [
        "df.dropna(inplace=True)\n",
        "df.isnull().sum() "
      ],
      "execution_count": null,
      "outputs": [
        {
          "output_type": "execute_result",
          "data": {
            "text/plain": [
              "price           0\n",
              "currency        0\n",
              "bedrooms        0\n",
              "bathrooms       0\n",
              "parkingSpots    0\n",
              "propertySize    0\n",
              "neighborhood    0\n",
              "lat             0\n",
              "lon             0\n",
              "dtype: int64"
            ]
          },
          "metadata": {},
          "execution_count": 7
        }
      ]
    },
    {
      "cell_type": "code",
      "metadata": {
        "colab": {
          "base_uri": "https://localhost:8080/"
        },
        "id": "CwccFqehr-HN",
        "outputId": "03801259-6067-46b8-9b72-7845c23bdf96"
      },
      "source": [
        "print(\"% of neighborhoods listed as 'Tijuana, Baja California':\", (df['neighborhood'].value_counts().max()/866)*100)"
      ],
      "execution_count": null,
      "outputs": [
        {
          "output_type": "stream",
          "name": "stdout",
          "text": [
            "% of neighborhoods listed as 'Tijuana, Baja California': 33.48729792147806\n"
          ]
        }
      ]
    },
    {
      "cell_type": "code",
      "metadata": {
        "id": "HBfe2_JGvOG6"
      },
      "source": [
        "df = df.drop(df.index[df['neighborhood'] == 'Tijuana, Baja California Norte'])"
      ],
      "execution_count": null,
      "outputs": []
    },
    {
      "cell_type": "code",
      "metadata": {
        "colab": {
          "base_uri": "https://localhost:8080/"
        },
        "id": "ejZCIe-GwEaW",
        "outputId": "d51c1d93-6df4-4601-d871-adcd204685bb"
      },
      "source": [
        "df.shape"
      ],
      "execution_count": null,
      "outputs": [
        {
          "output_type": "execute_result",
          "data": {
            "text/plain": [
              "(576, 9)"
            ]
          },
          "metadata": {},
          "execution_count": 10
        }
      ]
    },
    {
      "cell_type": "code",
      "metadata": {
        "colab": {
          "base_uri": "https://localhost:8080/",
          "height": 206
        },
        "id": "TLX0pOHlwdn3",
        "outputId": "0ac56573-a4de-472d-f3b8-2f6149873241"
      },
      "source": [
        "df_mn = df[df['currency'] == 'MN']\n",
        "df_mn.head()"
      ],
      "execution_count": null,
      "outputs": [
        {
          "output_type": "execute_result",
          "data": {
            "text/plain": [
              "       price currency  bedrooms  bathrooms  parkingSpots  propertySize  \\\n",
              "2  3000000.0       MN       3.0        2.0           2.0         107.0   \n",
              "6  4200000.0       MN       3.0        2.0           2.0         150.0   \n",
              "7   900000.0       MN       2.0        1.0           1.0         142.0   \n",
              "8  2550000.0       MN       3.0        2.0           2.0         140.0   \n",
              "9  2250000.0       MN       3.0        2.0           2.0         103.0   \n",
              "\n",
              "                     neighborhood        lat         lon  \n",
              "2      Lomas de La Presa, Tijuana  32.448786 -116.924895  \n",
              "6                   Roma, Tijuana  32.531941 -117.037896  \n",
              "7  Real de San Francisco, Tijuana  32.486000 -116.854223  \n",
              "8      Lomas de La Presa, Tijuana  32.448786 -116.924895  \n",
              "9               Santa Fe, Tijuana  32.494586 -116.962982  "
            ],
            "text/html": [
              "\n",
              "  <div id=\"df-6d6f6bb9-7c38-4691-b1e7-0e2329a0955e\">\n",
              "    <div class=\"colab-df-container\">\n",
              "      <div>\n",
              "<style scoped>\n",
              "    .dataframe tbody tr th:only-of-type {\n",
              "        vertical-align: middle;\n",
              "    }\n",
              "\n",
              "    .dataframe tbody tr th {\n",
              "        vertical-align: top;\n",
              "    }\n",
              "\n",
              "    .dataframe thead th {\n",
              "        text-align: right;\n",
              "    }\n",
              "</style>\n",
              "<table border=\"1\" class=\"dataframe\">\n",
              "  <thead>\n",
              "    <tr style=\"text-align: right;\">\n",
              "      <th></th>\n",
              "      <th>price</th>\n",
              "      <th>currency</th>\n",
              "      <th>bedrooms</th>\n",
              "      <th>bathrooms</th>\n",
              "      <th>parkingSpots</th>\n",
              "      <th>propertySize</th>\n",
              "      <th>neighborhood</th>\n",
              "      <th>lat</th>\n",
              "      <th>lon</th>\n",
              "    </tr>\n",
              "  </thead>\n",
              "  <tbody>\n",
              "    <tr>\n",
              "      <th>2</th>\n",
              "      <td>3000000.0</td>\n",
              "      <td>MN</td>\n",
              "      <td>3.0</td>\n",
              "      <td>2.0</td>\n",
              "      <td>2.0</td>\n",
              "      <td>107.0</td>\n",
              "      <td>Lomas de La Presa, Tijuana</td>\n",
              "      <td>32.448786</td>\n",
              "      <td>-116.924895</td>\n",
              "    </tr>\n",
              "    <tr>\n",
              "      <th>6</th>\n",
              "      <td>4200000.0</td>\n",
              "      <td>MN</td>\n",
              "      <td>3.0</td>\n",
              "      <td>2.0</td>\n",
              "      <td>2.0</td>\n",
              "      <td>150.0</td>\n",
              "      <td>Roma, Tijuana</td>\n",
              "      <td>32.531941</td>\n",
              "      <td>-117.037896</td>\n",
              "    </tr>\n",
              "    <tr>\n",
              "      <th>7</th>\n",
              "      <td>900000.0</td>\n",
              "      <td>MN</td>\n",
              "      <td>2.0</td>\n",
              "      <td>1.0</td>\n",
              "      <td>1.0</td>\n",
              "      <td>142.0</td>\n",
              "      <td>Real de San Francisco, Tijuana</td>\n",
              "      <td>32.486000</td>\n",
              "      <td>-116.854223</td>\n",
              "    </tr>\n",
              "    <tr>\n",
              "      <th>8</th>\n",
              "      <td>2550000.0</td>\n",
              "      <td>MN</td>\n",
              "      <td>3.0</td>\n",
              "      <td>2.0</td>\n",
              "      <td>2.0</td>\n",
              "      <td>140.0</td>\n",
              "      <td>Lomas de La Presa, Tijuana</td>\n",
              "      <td>32.448786</td>\n",
              "      <td>-116.924895</td>\n",
              "    </tr>\n",
              "    <tr>\n",
              "      <th>9</th>\n",
              "      <td>2250000.0</td>\n",
              "      <td>MN</td>\n",
              "      <td>3.0</td>\n",
              "      <td>2.0</td>\n",
              "      <td>2.0</td>\n",
              "      <td>103.0</td>\n",
              "      <td>Santa Fe, Tijuana</td>\n",
              "      <td>32.494586</td>\n",
              "      <td>-116.962982</td>\n",
              "    </tr>\n",
              "  </tbody>\n",
              "</table>\n",
              "</div>\n",
              "      <button class=\"colab-df-convert\" onclick=\"convertToInteractive('df-6d6f6bb9-7c38-4691-b1e7-0e2329a0955e')\"\n",
              "              title=\"Convert this dataframe to an interactive table.\"\n",
              "              style=\"display:none;\">\n",
              "        \n",
              "  <svg xmlns=\"http://www.w3.org/2000/svg\" height=\"24px\"viewBox=\"0 0 24 24\"\n",
              "       width=\"24px\">\n",
              "    <path d=\"M0 0h24v24H0V0z\" fill=\"none\"/>\n",
              "    <path d=\"M18.56 5.44l.94 2.06.94-2.06 2.06-.94-2.06-.94-.94-2.06-.94 2.06-2.06.94zm-11 1L8.5 8.5l.94-2.06 2.06-.94-2.06-.94L8.5 2.5l-.94 2.06-2.06.94zm10 10l.94 2.06.94-2.06 2.06-.94-2.06-.94-.94-2.06-.94 2.06-2.06.94z\"/><path d=\"M17.41 7.96l-1.37-1.37c-.4-.4-.92-.59-1.43-.59-.52 0-1.04.2-1.43.59L10.3 9.45l-7.72 7.72c-.78.78-.78 2.05 0 2.83L4 21.41c.39.39.9.59 1.41.59.51 0 1.02-.2 1.41-.59l7.78-7.78 2.81-2.81c.8-.78.8-2.07 0-2.86zM5.41 20L4 18.59l7.72-7.72 1.47 1.35L5.41 20z\"/>\n",
              "  </svg>\n",
              "      </button>\n",
              "      \n",
              "  <style>\n",
              "    .colab-df-container {\n",
              "      display:flex;\n",
              "      flex-wrap:wrap;\n",
              "      gap: 12px;\n",
              "    }\n",
              "\n",
              "    .colab-df-convert {\n",
              "      background-color: #E8F0FE;\n",
              "      border: none;\n",
              "      border-radius: 50%;\n",
              "      cursor: pointer;\n",
              "      display: none;\n",
              "      fill: #1967D2;\n",
              "      height: 32px;\n",
              "      padding: 0 0 0 0;\n",
              "      width: 32px;\n",
              "    }\n",
              "\n",
              "    .colab-df-convert:hover {\n",
              "      background-color: #E2EBFA;\n",
              "      box-shadow: 0px 1px 2px rgba(60, 64, 67, 0.3), 0px 1px 3px 1px rgba(60, 64, 67, 0.15);\n",
              "      fill: #174EA6;\n",
              "    }\n",
              "\n",
              "    [theme=dark] .colab-df-convert {\n",
              "      background-color: #3B4455;\n",
              "      fill: #D2E3FC;\n",
              "    }\n",
              "\n",
              "    [theme=dark] .colab-df-convert:hover {\n",
              "      background-color: #434B5C;\n",
              "      box-shadow: 0px 1px 3px 1px rgba(0, 0, 0, 0.15);\n",
              "      filter: drop-shadow(0px 1px 2px rgba(0, 0, 0, 0.3));\n",
              "      fill: #FFFFFF;\n",
              "    }\n",
              "  </style>\n",
              "\n",
              "      <script>\n",
              "        const buttonEl =\n",
              "          document.querySelector('#df-6d6f6bb9-7c38-4691-b1e7-0e2329a0955e button.colab-df-convert');\n",
              "        buttonEl.style.display =\n",
              "          google.colab.kernel.accessAllowed ? 'block' : 'none';\n",
              "\n",
              "        async function convertToInteractive(key) {\n",
              "          const element = document.querySelector('#df-6d6f6bb9-7c38-4691-b1e7-0e2329a0955e');\n",
              "          const dataTable =\n",
              "            await google.colab.kernel.invokeFunction('convertToInteractive',\n",
              "                                                     [key], {});\n",
              "          if (!dataTable) return;\n",
              "\n",
              "          const docLinkHtml = 'Like what you see? Visit the ' +\n",
              "            '<a target=\"_blank\" href=https://colab.research.google.com/notebooks/data_table.ipynb>data table notebook</a>'\n",
              "            + ' to learn more about interactive tables.';\n",
              "          element.innerHTML = '';\n",
              "          dataTable['output_type'] = 'display_data';\n",
              "          await google.colab.output.renderOutput(dataTable, element);\n",
              "          const docLink = document.createElement('div');\n",
              "          docLink.innerHTML = docLinkHtml;\n",
              "          element.appendChild(docLink);\n",
              "        }\n",
              "      </script>\n",
              "    </div>\n",
              "  </div>\n",
              "  "
            ]
          },
          "metadata": {},
          "execution_count": 11
        }
      ]
    },
    {
      "cell_type": "code",
      "metadata": {
        "colab": {
          "base_uri": "https://localhost:8080/",
          "height": 206
        },
        "id": "J80pWlKjoXNd",
        "outputId": "9ada60f7-f29e-4250-b707-0e631b84dbeb"
      },
      "source": [
        "df_mn = df_mn.apply(lambda x: x / 20 if x.name == 'price' else x)\n",
        "df_mn.head()"
      ],
      "execution_count": null,
      "outputs": [
        {
          "output_type": "execute_result",
          "data": {
            "text/plain": [
              "      price currency  bedrooms  bathrooms  parkingSpots  propertySize  \\\n",
              "2  150000.0       MN       3.0        2.0           2.0         107.0   \n",
              "6  210000.0       MN       3.0        2.0           2.0         150.0   \n",
              "7   45000.0       MN       2.0        1.0           1.0         142.0   \n",
              "8  127500.0       MN       3.0        2.0           2.0         140.0   \n",
              "9  112500.0       MN       3.0        2.0           2.0         103.0   \n",
              "\n",
              "                     neighborhood        lat         lon  \n",
              "2      Lomas de La Presa, Tijuana  32.448786 -116.924895  \n",
              "6                   Roma, Tijuana  32.531941 -117.037896  \n",
              "7  Real de San Francisco, Tijuana  32.486000 -116.854223  \n",
              "8      Lomas de La Presa, Tijuana  32.448786 -116.924895  \n",
              "9               Santa Fe, Tijuana  32.494586 -116.962982  "
            ],
            "text/html": [
              "\n",
              "  <div id=\"df-865b547c-ee4b-467d-9aa0-7b6a20107289\">\n",
              "    <div class=\"colab-df-container\">\n",
              "      <div>\n",
              "<style scoped>\n",
              "    .dataframe tbody tr th:only-of-type {\n",
              "        vertical-align: middle;\n",
              "    }\n",
              "\n",
              "    .dataframe tbody tr th {\n",
              "        vertical-align: top;\n",
              "    }\n",
              "\n",
              "    .dataframe thead th {\n",
              "        text-align: right;\n",
              "    }\n",
              "</style>\n",
              "<table border=\"1\" class=\"dataframe\">\n",
              "  <thead>\n",
              "    <tr style=\"text-align: right;\">\n",
              "      <th></th>\n",
              "      <th>price</th>\n",
              "      <th>currency</th>\n",
              "      <th>bedrooms</th>\n",
              "      <th>bathrooms</th>\n",
              "      <th>parkingSpots</th>\n",
              "      <th>propertySize</th>\n",
              "      <th>neighborhood</th>\n",
              "      <th>lat</th>\n",
              "      <th>lon</th>\n",
              "    </tr>\n",
              "  </thead>\n",
              "  <tbody>\n",
              "    <tr>\n",
              "      <th>2</th>\n",
              "      <td>150000.0</td>\n",
              "      <td>MN</td>\n",
              "      <td>3.0</td>\n",
              "      <td>2.0</td>\n",
              "      <td>2.0</td>\n",
              "      <td>107.0</td>\n",
              "      <td>Lomas de La Presa, Tijuana</td>\n",
              "      <td>32.448786</td>\n",
              "      <td>-116.924895</td>\n",
              "    </tr>\n",
              "    <tr>\n",
              "      <th>6</th>\n",
              "      <td>210000.0</td>\n",
              "      <td>MN</td>\n",
              "      <td>3.0</td>\n",
              "      <td>2.0</td>\n",
              "      <td>2.0</td>\n",
              "      <td>150.0</td>\n",
              "      <td>Roma, Tijuana</td>\n",
              "      <td>32.531941</td>\n",
              "      <td>-117.037896</td>\n",
              "    </tr>\n",
              "    <tr>\n",
              "      <th>7</th>\n",
              "      <td>45000.0</td>\n",
              "      <td>MN</td>\n",
              "      <td>2.0</td>\n",
              "      <td>1.0</td>\n",
              "      <td>1.0</td>\n",
              "      <td>142.0</td>\n",
              "      <td>Real de San Francisco, Tijuana</td>\n",
              "      <td>32.486000</td>\n",
              "      <td>-116.854223</td>\n",
              "    </tr>\n",
              "    <tr>\n",
              "      <th>8</th>\n",
              "      <td>127500.0</td>\n",
              "      <td>MN</td>\n",
              "      <td>3.0</td>\n",
              "      <td>2.0</td>\n",
              "      <td>2.0</td>\n",
              "      <td>140.0</td>\n",
              "      <td>Lomas de La Presa, Tijuana</td>\n",
              "      <td>32.448786</td>\n",
              "      <td>-116.924895</td>\n",
              "    </tr>\n",
              "    <tr>\n",
              "      <th>9</th>\n",
              "      <td>112500.0</td>\n",
              "      <td>MN</td>\n",
              "      <td>3.0</td>\n",
              "      <td>2.0</td>\n",
              "      <td>2.0</td>\n",
              "      <td>103.0</td>\n",
              "      <td>Santa Fe, Tijuana</td>\n",
              "      <td>32.494586</td>\n",
              "      <td>-116.962982</td>\n",
              "    </tr>\n",
              "  </tbody>\n",
              "</table>\n",
              "</div>\n",
              "      <button class=\"colab-df-convert\" onclick=\"convertToInteractive('df-865b547c-ee4b-467d-9aa0-7b6a20107289')\"\n",
              "              title=\"Convert this dataframe to an interactive table.\"\n",
              "              style=\"display:none;\">\n",
              "        \n",
              "  <svg xmlns=\"http://www.w3.org/2000/svg\" height=\"24px\"viewBox=\"0 0 24 24\"\n",
              "       width=\"24px\">\n",
              "    <path d=\"M0 0h24v24H0V0z\" fill=\"none\"/>\n",
              "    <path d=\"M18.56 5.44l.94 2.06.94-2.06 2.06-.94-2.06-.94-.94-2.06-.94 2.06-2.06.94zm-11 1L8.5 8.5l.94-2.06 2.06-.94-2.06-.94L8.5 2.5l-.94 2.06-2.06.94zm10 10l.94 2.06.94-2.06 2.06-.94-2.06-.94-.94-2.06-.94 2.06-2.06.94z\"/><path d=\"M17.41 7.96l-1.37-1.37c-.4-.4-.92-.59-1.43-.59-.52 0-1.04.2-1.43.59L10.3 9.45l-7.72 7.72c-.78.78-.78 2.05 0 2.83L4 21.41c.39.39.9.59 1.41.59.51 0 1.02-.2 1.41-.59l7.78-7.78 2.81-2.81c.8-.78.8-2.07 0-2.86zM5.41 20L4 18.59l7.72-7.72 1.47 1.35L5.41 20z\"/>\n",
              "  </svg>\n",
              "      </button>\n",
              "      \n",
              "  <style>\n",
              "    .colab-df-container {\n",
              "      display:flex;\n",
              "      flex-wrap:wrap;\n",
              "      gap: 12px;\n",
              "    }\n",
              "\n",
              "    .colab-df-convert {\n",
              "      background-color: #E8F0FE;\n",
              "      border: none;\n",
              "      border-radius: 50%;\n",
              "      cursor: pointer;\n",
              "      display: none;\n",
              "      fill: #1967D2;\n",
              "      height: 32px;\n",
              "      padding: 0 0 0 0;\n",
              "      width: 32px;\n",
              "    }\n",
              "\n",
              "    .colab-df-convert:hover {\n",
              "      background-color: #E2EBFA;\n",
              "      box-shadow: 0px 1px 2px rgba(60, 64, 67, 0.3), 0px 1px 3px 1px rgba(60, 64, 67, 0.15);\n",
              "      fill: #174EA6;\n",
              "    }\n",
              "\n",
              "    [theme=dark] .colab-df-convert {\n",
              "      background-color: #3B4455;\n",
              "      fill: #D2E3FC;\n",
              "    }\n",
              "\n",
              "    [theme=dark] .colab-df-convert:hover {\n",
              "      background-color: #434B5C;\n",
              "      box-shadow: 0px 1px 3px 1px rgba(0, 0, 0, 0.15);\n",
              "      filter: drop-shadow(0px 1px 2px rgba(0, 0, 0, 0.3));\n",
              "      fill: #FFFFFF;\n",
              "    }\n",
              "  </style>\n",
              "\n",
              "      <script>\n",
              "        const buttonEl =\n",
              "          document.querySelector('#df-865b547c-ee4b-467d-9aa0-7b6a20107289 button.colab-df-convert');\n",
              "        buttonEl.style.display =\n",
              "          google.colab.kernel.accessAllowed ? 'block' : 'none';\n",
              "\n",
              "        async function convertToInteractive(key) {\n",
              "          const element = document.querySelector('#df-865b547c-ee4b-467d-9aa0-7b6a20107289');\n",
              "          const dataTable =\n",
              "            await google.colab.kernel.invokeFunction('convertToInteractive',\n",
              "                                                     [key], {});\n",
              "          if (!dataTable) return;\n",
              "\n",
              "          const docLinkHtml = 'Like what you see? Visit the ' +\n",
              "            '<a target=\"_blank\" href=https://colab.research.google.com/notebooks/data_table.ipynb>data table notebook</a>'\n",
              "            + ' to learn more about interactive tables.';\n",
              "          element.innerHTML = '';\n",
              "          dataTable['output_type'] = 'display_data';\n",
              "          await google.colab.output.renderOutput(dataTable, element);\n",
              "          const docLink = document.createElement('div');\n",
              "          docLink.innerHTML = docLinkHtml;\n",
              "          element.appendChild(docLink);\n",
              "        }\n",
              "      </script>\n",
              "    </div>\n",
              "  </div>\n",
              "  "
            ]
          },
          "metadata": {},
          "execution_count": 12
        }
      ]
    },
    {
      "cell_type": "code",
      "metadata": {
        "colab": {
          "base_uri": "https://localhost:8080/"
        },
        "id": "f9OPg-qSp3hM",
        "outputId": "3d50f43c-52b6-426e-8f4a-6170ab7a116b"
      },
      "source": [
        "df = df.drop(df.index[df['currency'] == 'MN'])\n",
        "df.shape"
      ],
      "execution_count": null,
      "outputs": [
        {
          "output_type": "execute_result",
          "data": {
            "text/plain": [
              "(283, 9)"
            ]
          },
          "metadata": {},
          "execution_count": 13
        }
      ]
    },
    {
      "cell_type": "code",
      "metadata": {
        "id": "uQp_S6C_qDpm"
      },
      "source": [
        "prices = [df, df_mn]\n",
        "df = pd.concat(prices).sort_index()\n",
        "\n"
      ],
      "execution_count": null,
      "outputs": []
    },
    {
      "cell_type": "code",
      "metadata": {
        "colab": {
          "base_uri": "https://localhost:8080/",
          "height": 206
        },
        "id": "xjocUWM9Wa5F",
        "outputId": "e3f25b73-b451-4da2-f319-19fcf5ae4df0"
      },
      "source": [
        "df.head()"
      ],
      "execution_count": null,
      "outputs": [
        {
          "output_type": "execute_result",
          "data": {
            "text/plain": [
              "      price currency  bedrooms  bathrooms  parkingSpots  propertySize  \\\n",
              "0  150000.0      USD       4.0        2.0           3.0         130.0   \n",
              "1  774900.0      USD       3.0        3.0           2.0         550.0   \n",
              "2  150000.0       MN       3.0        2.0           2.0         107.0   \n",
              "3  385000.0      USD       4.0        3.0           3.0         350.0   \n",
              "4   70000.0      USD       2.0        1.0           1.0          80.0   \n",
              "\n",
              "                      neighborhood        lat         lon  \n",
              "0            Las Americas, Tijuana  32.500975 -116.896457  \n",
              "1  Hacienda Agua Caliente, Tijuana  32.488683 -116.999223  \n",
              "2       Lomas de La Presa, Tijuana  32.448786 -116.924895  \n",
              "3       Xicotencatl Leyva, Tijuana  32.538363 -116.931519  \n",
              "4                    Vaim, Tijuana  32.493642 -116.942191  "
            ],
            "text/html": [
              "\n",
              "  <div id=\"df-57411eb0-50c1-4f06-8e81-d1965680deba\">\n",
              "    <div class=\"colab-df-container\">\n",
              "      <div>\n",
              "<style scoped>\n",
              "    .dataframe tbody tr th:only-of-type {\n",
              "        vertical-align: middle;\n",
              "    }\n",
              "\n",
              "    .dataframe tbody tr th {\n",
              "        vertical-align: top;\n",
              "    }\n",
              "\n",
              "    .dataframe thead th {\n",
              "        text-align: right;\n",
              "    }\n",
              "</style>\n",
              "<table border=\"1\" class=\"dataframe\">\n",
              "  <thead>\n",
              "    <tr style=\"text-align: right;\">\n",
              "      <th></th>\n",
              "      <th>price</th>\n",
              "      <th>currency</th>\n",
              "      <th>bedrooms</th>\n",
              "      <th>bathrooms</th>\n",
              "      <th>parkingSpots</th>\n",
              "      <th>propertySize</th>\n",
              "      <th>neighborhood</th>\n",
              "      <th>lat</th>\n",
              "      <th>lon</th>\n",
              "    </tr>\n",
              "  </thead>\n",
              "  <tbody>\n",
              "    <tr>\n",
              "      <th>0</th>\n",
              "      <td>150000.0</td>\n",
              "      <td>USD</td>\n",
              "      <td>4.0</td>\n",
              "      <td>2.0</td>\n",
              "      <td>3.0</td>\n",
              "      <td>130.0</td>\n",
              "      <td>Las Americas, Tijuana</td>\n",
              "      <td>32.500975</td>\n",
              "      <td>-116.896457</td>\n",
              "    </tr>\n",
              "    <tr>\n",
              "      <th>1</th>\n",
              "      <td>774900.0</td>\n",
              "      <td>USD</td>\n",
              "      <td>3.0</td>\n",
              "      <td>3.0</td>\n",
              "      <td>2.0</td>\n",
              "      <td>550.0</td>\n",
              "      <td>Hacienda Agua Caliente, Tijuana</td>\n",
              "      <td>32.488683</td>\n",
              "      <td>-116.999223</td>\n",
              "    </tr>\n",
              "    <tr>\n",
              "      <th>2</th>\n",
              "      <td>150000.0</td>\n",
              "      <td>MN</td>\n",
              "      <td>3.0</td>\n",
              "      <td>2.0</td>\n",
              "      <td>2.0</td>\n",
              "      <td>107.0</td>\n",
              "      <td>Lomas de La Presa, Tijuana</td>\n",
              "      <td>32.448786</td>\n",
              "      <td>-116.924895</td>\n",
              "    </tr>\n",
              "    <tr>\n",
              "      <th>3</th>\n",
              "      <td>385000.0</td>\n",
              "      <td>USD</td>\n",
              "      <td>4.0</td>\n",
              "      <td>3.0</td>\n",
              "      <td>3.0</td>\n",
              "      <td>350.0</td>\n",
              "      <td>Xicotencatl Leyva, Tijuana</td>\n",
              "      <td>32.538363</td>\n",
              "      <td>-116.931519</td>\n",
              "    </tr>\n",
              "    <tr>\n",
              "      <th>4</th>\n",
              "      <td>70000.0</td>\n",
              "      <td>USD</td>\n",
              "      <td>2.0</td>\n",
              "      <td>1.0</td>\n",
              "      <td>1.0</td>\n",
              "      <td>80.0</td>\n",
              "      <td>Vaim, Tijuana</td>\n",
              "      <td>32.493642</td>\n",
              "      <td>-116.942191</td>\n",
              "    </tr>\n",
              "  </tbody>\n",
              "</table>\n",
              "</div>\n",
              "      <button class=\"colab-df-convert\" onclick=\"convertToInteractive('df-57411eb0-50c1-4f06-8e81-d1965680deba')\"\n",
              "              title=\"Convert this dataframe to an interactive table.\"\n",
              "              style=\"display:none;\">\n",
              "        \n",
              "  <svg xmlns=\"http://www.w3.org/2000/svg\" height=\"24px\"viewBox=\"0 0 24 24\"\n",
              "       width=\"24px\">\n",
              "    <path d=\"M0 0h24v24H0V0z\" fill=\"none\"/>\n",
              "    <path d=\"M18.56 5.44l.94 2.06.94-2.06 2.06-.94-2.06-.94-.94-2.06-.94 2.06-2.06.94zm-11 1L8.5 8.5l.94-2.06 2.06-.94-2.06-.94L8.5 2.5l-.94 2.06-2.06.94zm10 10l.94 2.06.94-2.06 2.06-.94-2.06-.94-.94-2.06-.94 2.06-2.06.94z\"/><path d=\"M17.41 7.96l-1.37-1.37c-.4-.4-.92-.59-1.43-.59-.52 0-1.04.2-1.43.59L10.3 9.45l-7.72 7.72c-.78.78-.78 2.05 0 2.83L4 21.41c.39.39.9.59 1.41.59.51 0 1.02-.2 1.41-.59l7.78-7.78 2.81-2.81c.8-.78.8-2.07 0-2.86zM5.41 20L4 18.59l7.72-7.72 1.47 1.35L5.41 20z\"/>\n",
              "  </svg>\n",
              "      </button>\n",
              "      \n",
              "  <style>\n",
              "    .colab-df-container {\n",
              "      display:flex;\n",
              "      flex-wrap:wrap;\n",
              "      gap: 12px;\n",
              "    }\n",
              "\n",
              "    .colab-df-convert {\n",
              "      background-color: #E8F0FE;\n",
              "      border: none;\n",
              "      border-radius: 50%;\n",
              "      cursor: pointer;\n",
              "      display: none;\n",
              "      fill: #1967D2;\n",
              "      height: 32px;\n",
              "      padding: 0 0 0 0;\n",
              "      width: 32px;\n",
              "    }\n",
              "\n",
              "    .colab-df-convert:hover {\n",
              "      background-color: #E2EBFA;\n",
              "      box-shadow: 0px 1px 2px rgba(60, 64, 67, 0.3), 0px 1px 3px 1px rgba(60, 64, 67, 0.15);\n",
              "      fill: #174EA6;\n",
              "    }\n",
              "\n",
              "    [theme=dark] .colab-df-convert {\n",
              "      background-color: #3B4455;\n",
              "      fill: #D2E3FC;\n",
              "    }\n",
              "\n",
              "    [theme=dark] .colab-df-convert:hover {\n",
              "      background-color: #434B5C;\n",
              "      box-shadow: 0px 1px 3px 1px rgba(0, 0, 0, 0.15);\n",
              "      filter: drop-shadow(0px 1px 2px rgba(0, 0, 0, 0.3));\n",
              "      fill: #FFFFFF;\n",
              "    }\n",
              "  </style>\n",
              "\n",
              "      <script>\n",
              "        const buttonEl =\n",
              "          document.querySelector('#df-57411eb0-50c1-4f06-8e81-d1965680deba button.colab-df-convert');\n",
              "        buttonEl.style.display =\n",
              "          google.colab.kernel.accessAllowed ? 'block' : 'none';\n",
              "\n",
              "        async function convertToInteractive(key) {\n",
              "          const element = document.querySelector('#df-57411eb0-50c1-4f06-8e81-d1965680deba');\n",
              "          const dataTable =\n",
              "            await google.colab.kernel.invokeFunction('convertToInteractive',\n",
              "                                                     [key], {});\n",
              "          if (!dataTable) return;\n",
              "\n",
              "          const docLinkHtml = 'Like what you see? Visit the ' +\n",
              "            '<a target=\"_blank\" href=https://colab.research.google.com/notebooks/data_table.ipynb>data table notebook</a>'\n",
              "            + ' to learn more about interactive tables.';\n",
              "          element.innerHTML = '';\n",
              "          dataTable['output_type'] = 'display_data';\n",
              "          await google.colab.output.renderOutput(dataTable, element);\n",
              "          const docLink = document.createElement('div');\n",
              "          docLink.innerHTML = docLinkHtml;\n",
              "          element.appendChild(docLink);\n",
              "        }\n",
              "      </script>\n",
              "    </div>\n",
              "  </div>\n",
              "  "
            ]
          },
          "metadata": {},
          "execution_count": 15
        }
      ]
    },
    {
      "cell_type": "code",
      "metadata": {
        "id": "vXrsP7NbWouo"
      },
      "source": [
        "df = df.drop(columns = ['currency'])"
      ],
      "execution_count": null,
      "outputs": []
    },
    {
      "cell_type": "code",
      "source": [
        "df.dtypes"
      ],
      "metadata": {
        "colab": {
          "base_uri": "https://localhost:8080/"
        },
        "id": "StlTsmXToAKy",
        "outputId": "c9ec7caf-6a62-41aa-9302-8b795ad9ffab"
      },
      "execution_count": null,
      "outputs": [
        {
          "output_type": "execute_result",
          "data": {
            "text/plain": [
              "price           float64\n",
              "bedrooms        float64\n",
              "bathrooms       float64\n",
              "parkingSpots    float64\n",
              "propertySize    float64\n",
              "neighborhood     object\n",
              "lat             float64\n",
              "lon             float64\n",
              "dtype: object"
            ]
          },
          "metadata": {},
          "execution_count": 17
        }
      ]
    },
    {
      "cell_type": "code",
      "metadata": {
        "colab": {
          "base_uri": "https://localhost:8080/",
          "height": 206
        },
        "id": "8QZqyf9preTb",
        "outputId": "0a47f7b7-cbc1-42ac-b0e0-2fc62602587a"
      },
      "source": [
        "df.head()\n",
        "\n"
      ],
      "execution_count": null,
      "outputs": [
        {
          "output_type": "execute_result",
          "data": {
            "text/plain": [
              "      price  bedrooms  bathrooms  parkingSpots  propertySize  \\\n",
              "0  150000.0       4.0        2.0           3.0         130.0   \n",
              "1  774900.0       3.0        3.0           2.0         550.0   \n",
              "2  150000.0       3.0        2.0           2.0         107.0   \n",
              "3  385000.0       4.0        3.0           3.0         350.0   \n",
              "4   70000.0       2.0        1.0           1.0          80.0   \n",
              "\n",
              "                      neighborhood        lat         lon  \n",
              "0            Las Americas, Tijuana  32.500975 -116.896457  \n",
              "1  Hacienda Agua Caliente, Tijuana  32.488683 -116.999223  \n",
              "2       Lomas de La Presa, Tijuana  32.448786 -116.924895  \n",
              "3       Xicotencatl Leyva, Tijuana  32.538363 -116.931519  \n",
              "4                    Vaim, Tijuana  32.493642 -116.942191  "
            ],
            "text/html": [
              "\n",
              "  <div id=\"df-7b46e331-011f-4c0f-b8c3-1db5f82ab9de\">\n",
              "    <div class=\"colab-df-container\">\n",
              "      <div>\n",
              "<style scoped>\n",
              "    .dataframe tbody tr th:only-of-type {\n",
              "        vertical-align: middle;\n",
              "    }\n",
              "\n",
              "    .dataframe tbody tr th {\n",
              "        vertical-align: top;\n",
              "    }\n",
              "\n",
              "    .dataframe thead th {\n",
              "        text-align: right;\n",
              "    }\n",
              "</style>\n",
              "<table border=\"1\" class=\"dataframe\">\n",
              "  <thead>\n",
              "    <tr style=\"text-align: right;\">\n",
              "      <th></th>\n",
              "      <th>price</th>\n",
              "      <th>bedrooms</th>\n",
              "      <th>bathrooms</th>\n",
              "      <th>parkingSpots</th>\n",
              "      <th>propertySize</th>\n",
              "      <th>neighborhood</th>\n",
              "      <th>lat</th>\n",
              "      <th>lon</th>\n",
              "    </tr>\n",
              "  </thead>\n",
              "  <tbody>\n",
              "    <tr>\n",
              "      <th>0</th>\n",
              "      <td>150000.0</td>\n",
              "      <td>4.0</td>\n",
              "      <td>2.0</td>\n",
              "      <td>3.0</td>\n",
              "      <td>130.0</td>\n",
              "      <td>Las Americas, Tijuana</td>\n",
              "      <td>32.500975</td>\n",
              "      <td>-116.896457</td>\n",
              "    </tr>\n",
              "    <tr>\n",
              "      <th>1</th>\n",
              "      <td>774900.0</td>\n",
              "      <td>3.0</td>\n",
              "      <td>3.0</td>\n",
              "      <td>2.0</td>\n",
              "      <td>550.0</td>\n",
              "      <td>Hacienda Agua Caliente, Tijuana</td>\n",
              "      <td>32.488683</td>\n",
              "      <td>-116.999223</td>\n",
              "    </tr>\n",
              "    <tr>\n",
              "      <th>2</th>\n",
              "      <td>150000.0</td>\n",
              "      <td>3.0</td>\n",
              "      <td>2.0</td>\n",
              "      <td>2.0</td>\n",
              "      <td>107.0</td>\n",
              "      <td>Lomas de La Presa, Tijuana</td>\n",
              "      <td>32.448786</td>\n",
              "      <td>-116.924895</td>\n",
              "    </tr>\n",
              "    <tr>\n",
              "      <th>3</th>\n",
              "      <td>385000.0</td>\n",
              "      <td>4.0</td>\n",
              "      <td>3.0</td>\n",
              "      <td>3.0</td>\n",
              "      <td>350.0</td>\n",
              "      <td>Xicotencatl Leyva, Tijuana</td>\n",
              "      <td>32.538363</td>\n",
              "      <td>-116.931519</td>\n",
              "    </tr>\n",
              "    <tr>\n",
              "      <th>4</th>\n",
              "      <td>70000.0</td>\n",
              "      <td>2.0</td>\n",
              "      <td>1.0</td>\n",
              "      <td>1.0</td>\n",
              "      <td>80.0</td>\n",
              "      <td>Vaim, Tijuana</td>\n",
              "      <td>32.493642</td>\n",
              "      <td>-116.942191</td>\n",
              "    </tr>\n",
              "  </tbody>\n",
              "</table>\n",
              "</div>\n",
              "      <button class=\"colab-df-convert\" onclick=\"convertToInteractive('df-7b46e331-011f-4c0f-b8c3-1db5f82ab9de')\"\n",
              "              title=\"Convert this dataframe to an interactive table.\"\n",
              "              style=\"display:none;\">\n",
              "        \n",
              "  <svg xmlns=\"http://www.w3.org/2000/svg\" height=\"24px\"viewBox=\"0 0 24 24\"\n",
              "       width=\"24px\">\n",
              "    <path d=\"M0 0h24v24H0V0z\" fill=\"none\"/>\n",
              "    <path d=\"M18.56 5.44l.94 2.06.94-2.06 2.06-.94-2.06-.94-.94-2.06-.94 2.06-2.06.94zm-11 1L8.5 8.5l.94-2.06 2.06-.94-2.06-.94L8.5 2.5l-.94 2.06-2.06.94zm10 10l.94 2.06.94-2.06 2.06-.94-2.06-.94-.94-2.06-.94 2.06-2.06.94z\"/><path d=\"M17.41 7.96l-1.37-1.37c-.4-.4-.92-.59-1.43-.59-.52 0-1.04.2-1.43.59L10.3 9.45l-7.72 7.72c-.78.78-.78 2.05 0 2.83L4 21.41c.39.39.9.59 1.41.59.51 0 1.02-.2 1.41-.59l7.78-7.78 2.81-2.81c.8-.78.8-2.07 0-2.86zM5.41 20L4 18.59l7.72-7.72 1.47 1.35L5.41 20z\"/>\n",
              "  </svg>\n",
              "      </button>\n",
              "      \n",
              "  <style>\n",
              "    .colab-df-container {\n",
              "      display:flex;\n",
              "      flex-wrap:wrap;\n",
              "      gap: 12px;\n",
              "    }\n",
              "\n",
              "    .colab-df-convert {\n",
              "      background-color: #E8F0FE;\n",
              "      border: none;\n",
              "      border-radius: 50%;\n",
              "      cursor: pointer;\n",
              "      display: none;\n",
              "      fill: #1967D2;\n",
              "      height: 32px;\n",
              "      padding: 0 0 0 0;\n",
              "      width: 32px;\n",
              "    }\n",
              "\n",
              "    .colab-df-convert:hover {\n",
              "      background-color: #E2EBFA;\n",
              "      box-shadow: 0px 1px 2px rgba(60, 64, 67, 0.3), 0px 1px 3px 1px rgba(60, 64, 67, 0.15);\n",
              "      fill: #174EA6;\n",
              "    }\n",
              "\n",
              "    [theme=dark] .colab-df-convert {\n",
              "      background-color: #3B4455;\n",
              "      fill: #D2E3FC;\n",
              "    }\n",
              "\n",
              "    [theme=dark] .colab-df-convert:hover {\n",
              "      background-color: #434B5C;\n",
              "      box-shadow: 0px 1px 3px 1px rgba(0, 0, 0, 0.15);\n",
              "      filter: drop-shadow(0px 1px 2px rgba(0, 0, 0, 0.3));\n",
              "      fill: #FFFFFF;\n",
              "    }\n",
              "  </style>\n",
              "\n",
              "      <script>\n",
              "        const buttonEl =\n",
              "          document.querySelector('#df-7b46e331-011f-4c0f-b8c3-1db5f82ab9de button.colab-df-convert');\n",
              "        buttonEl.style.display =\n",
              "          google.colab.kernel.accessAllowed ? 'block' : 'none';\n",
              "\n",
              "        async function convertToInteractive(key) {\n",
              "          const element = document.querySelector('#df-7b46e331-011f-4c0f-b8c3-1db5f82ab9de');\n",
              "          const dataTable =\n",
              "            await google.colab.kernel.invokeFunction('convertToInteractive',\n",
              "                                                     [key], {});\n",
              "          if (!dataTable) return;\n",
              "\n",
              "          const docLinkHtml = 'Like what you see? Visit the ' +\n",
              "            '<a target=\"_blank\" href=https://colab.research.google.com/notebooks/data_table.ipynb>data table notebook</a>'\n",
              "            + ' to learn more about interactive tables.';\n",
              "          element.innerHTML = '';\n",
              "          dataTable['output_type'] = 'display_data';\n",
              "          await google.colab.output.renderOutput(dataTable, element);\n",
              "          const docLink = document.createElement('div');\n",
              "          docLink.innerHTML = docLinkHtml;\n",
              "          element.appendChild(docLink);\n",
              "        }\n",
              "      </script>\n",
              "    </div>\n",
              "  </div>\n",
              "  "
            ]
          },
          "metadata": {},
          "execution_count": 18
        }
      ]
    },
    {
      "cell_type": "code",
      "source": [
        "df.insert(8, \"latSY\", 32.5414378)\n",
        "df.insert(9, \"lonSY\", -117.0275893)\n",
        "df.insert(10, \"latOT\", 32.5457130)\n",
        "df.insert(11, \"lonOT\", -116.9379029)"
      ],
      "metadata": {
        "id": "Ynj95nxgyfsj"
      },
      "execution_count": null,
      "outputs": []
    },
    {
      "cell_type": "code",
      "source": [
        "df.dtypes"
      ],
      "metadata": {
        "colab": {
          "base_uri": "https://localhost:8080/"
        },
        "id": "HdCPFPPnC4ZE",
        "outputId": "2f7a4926-5d97-415d-9bd2-329f03e6e667"
      },
      "execution_count": null,
      "outputs": [
        {
          "output_type": "execute_result",
          "data": {
            "text/plain": [
              "price           float64\n",
              "bedrooms        float64\n",
              "bathrooms       float64\n",
              "parkingSpots    float64\n",
              "propertySize    float64\n",
              "neighborhood     object\n",
              "lat             float64\n",
              "lon             float64\n",
              "latSY           float64\n",
              "lonSY           float64\n",
              "latOT           float64\n",
              "lonOT           float64\n",
              "dtype: object"
            ]
          },
          "metadata": {},
          "execution_count": 20
        }
      ]
    },
    {
      "cell_type": "code",
      "source": [
        "R = 6373.0\n",
        "df['lat_rad'] = np.radians(df['lat'])\n",
        "df['lon_rad'] = np.radians(df['lon'])\n",
        "df['latSYrad'] = np.radians(df['latSY'])\n",
        "df['lonSYrad'] = np.radians(df['lonSY'])\n",
        "df['latOTrad'] = np.radians(df['latOT'])\n",
        "df['lonOTrad'] = np.radians(df['lonOT'])\n",
        "\n",
        "df['dlatSY'] = df['latSYrad'] - df['lat_rad']\n",
        "df['dlonSY'] = df['lonSYrad'] - df['lon_rad']\n",
        "df['dlatOT'] = df['latOTrad'] - df['lat_rad']\n",
        "df['dlonOT'] = df['lonOTrad'] - df['lon_rad']\n",
        "\n",
        "df['aSY'] =  np.sin(df['dlatSY'] / 2)**2 + np.cos(df['lat_rad']) * np.cos(df['latSYrad']) * np.sin(df['dlonSY'] / 2)**2\n",
        "df['aOT'] =  np.sin(df['dlatOT'] / 2)**2 + np.cos(df['lat_rad']) * np.cos(df['latOTrad']) * np.sin(df['dlonOT'] / 2)**2\n",
        "df['cSY'] = 2 * np.arctan2(np.sqrt(df['aSY']), np.sqrt(1 - df['aSY']))\n",
        "df['cOT'] = 2 * np.arctan2(np.sqrt(df['aOT']), np.sqrt(1 - df['aOT']))\n",
        "\n",
        "df['distance_SY (km)'] = R * df['cSY']\n",
        "df['distance_OT (km)'] = R * df['cOT']\n",
        "\n",
        "\n",
        "\n"
      ],
      "metadata": {
        "id": "4CE3Na69AZNS"
      },
      "execution_count": null,
      "outputs": []
    },
    {
      "cell_type": "code",
      "source": [
        "df = df.drop(columns = ['latSY', 'lonSY', 'latOT', 'lonOT',\n",
        "       'lat_rad', 'lon_rad', 'latSYrad', 'lonSYrad', 'latOTrad', 'lonOTrad',\n",
        "       'dlatSY', 'dlonSY', 'dlatOT', 'dlonOT', 'aSY', 'aOT', 'cSY', 'cOT'])\n",
        "df.head()"
      ],
      "metadata": {
        "colab": {
          "base_uri": "https://localhost:8080/",
          "height": 206
        },
        "id": "5nBbsSrNJLUB",
        "outputId": "85c65ea0-061f-4c9b-b40f-3bdb144b5061"
      },
      "execution_count": null,
      "outputs": [
        {
          "output_type": "execute_result",
          "data": {
            "text/plain": [
              "      price  bedrooms  bathrooms  parkingSpots  propertySize  \\\n",
              "0  150000.0       4.0        2.0           3.0         130.0   \n",
              "1  774900.0       3.0        3.0           2.0         550.0   \n",
              "2  150000.0       3.0        2.0           2.0         107.0   \n",
              "3  385000.0       4.0        3.0           3.0         350.0   \n",
              "4   70000.0       2.0        1.0           1.0          80.0   \n",
              "\n",
              "                      neighborhood        lat         lon  distance_SY (km)  \\\n",
              "0            Las Americas, Tijuana  32.500975 -116.896457         13.096252   \n",
              "1  Hacienda Agua Caliente, Tijuana  32.488683 -116.999223          6.442931   \n",
              "2       Lomas de La Presa, Tijuana  32.448786 -116.924895         14.107637   \n",
              "3       Xicotencatl Leyva, Tijuana  32.538363 -116.931519          9.014845   \n",
              "4                    Vaim, Tijuana  32.493642 -116.942191          9.613405   \n",
              "\n",
              "   distance_OT (km)  \n",
              "0          6.314373  \n",
              "1          8.562526  \n",
              "2         10.849984  \n",
              "3          1.013257  \n",
              "4          5.805798  "
            ],
            "text/html": [
              "\n",
              "  <div id=\"df-c83869f8-3945-4931-8d8c-c99cbfdb0fc2\">\n",
              "    <div class=\"colab-df-container\">\n",
              "      <div>\n",
              "<style scoped>\n",
              "    .dataframe tbody tr th:only-of-type {\n",
              "        vertical-align: middle;\n",
              "    }\n",
              "\n",
              "    .dataframe tbody tr th {\n",
              "        vertical-align: top;\n",
              "    }\n",
              "\n",
              "    .dataframe thead th {\n",
              "        text-align: right;\n",
              "    }\n",
              "</style>\n",
              "<table border=\"1\" class=\"dataframe\">\n",
              "  <thead>\n",
              "    <tr style=\"text-align: right;\">\n",
              "      <th></th>\n",
              "      <th>price</th>\n",
              "      <th>bedrooms</th>\n",
              "      <th>bathrooms</th>\n",
              "      <th>parkingSpots</th>\n",
              "      <th>propertySize</th>\n",
              "      <th>neighborhood</th>\n",
              "      <th>lat</th>\n",
              "      <th>lon</th>\n",
              "      <th>distance_SY (km)</th>\n",
              "      <th>distance_OT (km)</th>\n",
              "    </tr>\n",
              "  </thead>\n",
              "  <tbody>\n",
              "    <tr>\n",
              "      <th>0</th>\n",
              "      <td>150000.0</td>\n",
              "      <td>4.0</td>\n",
              "      <td>2.0</td>\n",
              "      <td>3.0</td>\n",
              "      <td>130.0</td>\n",
              "      <td>Las Americas, Tijuana</td>\n",
              "      <td>32.500975</td>\n",
              "      <td>-116.896457</td>\n",
              "      <td>13.096252</td>\n",
              "      <td>6.314373</td>\n",
              "    </tr>\n",
              "    <tr>\n",
              "      <th>1</th>\n",
              "      <td>774900.0</td>\n",
              "      <td>3.0</td>\n",
              "      <td>3.0</td>\n",
              "      <td>2.0</td>\n",
              "      <td>550.0</td>\n",
              "      <td>Hacienda Agua Caliente, Tijuana</td>\n",
              "      <td>32.488683</td>\n",
              "      <td>-116.999223</td>\n",
              "      <td>6.442931</td>\n",
              "      <td>8.562526</td>\n",
              "    </tr>\n",
              "    <tr>\n",
              "      <th>2</th>\n",
              "      <td>150000.0</td>\n",
              "      <td>3.0</td>\n",
              "      <td>2.0</td>\n",
              "      <td>2.0</td>\n",
              "      <td>107.0</td>\n",
              "      <td>Lomas de La Presa, Tijuana</td>\n",
              "      <td>32.448786</td>\n",
              "      <td>-116.924895</td>\n",
              "      <td>14.107637</td>\n",
              "      <td>10.849984</td>\n",
              "    </tr>\n",
              "    <tr>\n",
              "      <th>3</th>\n",
              "      <td>385000.0</td>\n",
              "      <td>4.0</td>\n",
              "      <td>3.0</td>\n",
              "      <td>3.0</td>\n",
              "      <td>350.0</td>\n",
              "      <td>Xicotencatl Leyva, Tijuana</td>\n",
              "      <td>32.538363</td>\n",
              "      <td>-116.931519</td>\n",
              "      <td>9.014845</td>\n",
              "      <td>1.013257</td>\n",
              "    </tr>\n",
              "    <tr>\n",
              "      <th>4</th>\n",
              "      <td>70000.0</td>\n",
              "      <td>2.0</td>\n",
              "      <td>1.0</td>\n",
              "      <td>1.0</td>\n",
              "      <td>80.0</td>\n",
              "      <td>Vaim, Tijuana</td>\n",
              "      <td>32.493642</td>\n",
              "      <td>-116.942191</td>\n",
              "      <td>9.613405</td>\n",
              "      <td>5.805798</td>\n",
              "    </tr>\n",
              "  </tbody>\n",
              "</table>\n",
              "</div>\n",
              "      <button class=\"colab-df-convert\" onclick=\"convertToInteractive('df-c83869f8-3945-4931-8d8c-c99cbfdb0fc2')\"\n",
              "              title=\"Convert this dataframe to an interactive table.\"\n",
              "              style=\"display:none;\">\n",
              "        \n",
              "  <svg xmlns=\"http://www.w3.org/2000/svg\" height=\"24px\"viewBox=\"0 0 24 24\"\n",
              "       width=\"24px\">\n",
              "    <path d=\"M0 0h24v24H0V0z\" fill=\"none\"/>\n",
              "    <path d=\"M18.56 5.44l.94 2.06.94-2.06 2.06-.94-2.06-.94-.94-2.06-.94 2.06-2.06.94zm-11 1L8.5 8.5l.94-2.06 2.06-.94-2.06-.94L8.5 2.5l-.94 2.06-2.06.94zm10 10l.94 2.06.94-2.06 2.06-.94-2.06-.94-.94-2.06-.94 2.06-2.06.94z\"/><path d=\"M17.41 7.96l-1.37-1.37c-.4-.4-.92-.59-1.43-.59-.52 0-1.04.2-1.43.59L10.3 9.45l-7.72 7.72c-.78.78-.78 2.05 0 2.83L4 21.41c.39.39.9.59 1.41.59.51 0 1.02-.2 1.41-.59l7.78-7.78 2.81-2.81c.8-.78.8-2.07 0-2.86zM5.41 20L4 18.59l7.72-7.72 1.47 1.35L5.41 20z\"/>\n",
              "  </svg>\n",
              "      </button>\n",
              "      \n",
              "  <style>\n",
              "    .colab-df-container {\n",
              "      display:flex;\n",
              "      flex-wrap:wrap;\n",
              "      gap: 12px;\n",
              "    }\n",
              "\n",
              "    .colab-df-convert {\n",
              "      background-color: #E8F0FE;\n",
              "      border: none;\n",
              "      border-radius: 50%;\n",
              "      cursor: pointer;\n",
              "      display: none;\n",
              "      fill: #1967D2;\n",
              "      height: 32px;\n",
              "      padding: 0 0 0 0;\n",
              "      width: 32px;\n",
              "    }\n",
              "\n",
              "    .colab-df-convert:hover {\n",
              "      background-color: #E2EBFA;\n",
              "      box-shadow: 0px 1px 2px rgba(60, 64, 67, 0.3), 0px 1px 3px 1px rgba(60, 64, 67, 0.15);\n",
              "      fill: #174EA6;\n",
              "    }\n",
              "\n",
              "    [theme=dark] .colab-df-convert {\n",
              "      background-color: #3B4455;\n",
              "      fill: #D2E3FC;\n",
              "    }\n",
              "\n",
              "    [theme=dark] .colab-df-convert:hover {\n",
              "      background-color: #434B5C;\n",
              "      box-shadow: 0px 1px 3px 1px rgba(0, 0, 0, 0.15);\n",
              "      filter: drop-shadow(0px 1px 2px rgba(0, 0, 0, 0.3));\n",
              "      fill: #FFFFFF;\n",
              "    }\n",
              "  </style>\n",
              "\n",
              "      <script>\n",
              "        const buttonEl =\n",
              "          document.querySelector('#df-c83869f8-3945-4931-8d8c-c99cbfdb0fc2 button.colab-df-convert');\n",
              "        buttonEl.style.display =\n",
              "          google.colab.kernel.accessAllowed ? 'block' : 'none';\n",
              "\n",
              "        async function convertToInteractive(key) {\n",
              "          const element = document.querySelector('#df-c83869f8-3945-4931-8d8c-c99cbfdb0fc2');\n",
              "          const dataTable =\n",
              "            await google.colab.kernel.invokeFunction('convertToInteractive',\n",
              "                                                     [key], {});\n",
              "          if (!dataTable) return;\n",
              "\n",
              "          const docLinkHtml = 'Like what you see? Visit the ' +\n",
              "            '<a target=\"_blank\" href=https://colab.research.google.com/notebooks/data_table.ipynb>data table notebook</a>'\n",
              "            + ' to learn more about interactive tables.';\n",
              "          element.innerHTML = '';\n",
              "          dataTable['output_type'] = 'display_data';\n",
              "          await google.colab.output.renderOutput(dataTable, element);\n",
              "          const docLink = document.createElement('div');\n",
              "          docLink.innerHTML = docLinkHtml;\n",
              "          element.appendChild(docLink);\n",
              "        }\n",
              "      </script>\n",
              "    </div>\n",
              "  </div>\n",
              "  "
            ]
          },
          "metadata": {},
          "execution_count": 22
        }
      ]
    },
    {
      "cell_type": "code",
      "metadata": {
        "colab": {
          "base_uri": "https://localhost:8080/",
          "height": 386
        },
        "id": "x4iG4FWAaH5l",
        "outputId": "59f70106-3e24-4557-e4b8-8f8d73187c67"
      },
      "source": [
        "dist = sns.displot(df.price, aspect = 2)\n",
        "dist.set(xlabel = \"Price (Millions of USD)\", ylabel = \"Number of houses\")"
      ],
      "execution_count": null,
      "outputs": [
        {
          "output_type": "execute_result",
          "data": {
            "text/plain": [
              "<seaborn.axisgrid.FacetGrid at 0x7f71db13fe10>"
            ]
          },
          "metadata": {},
          "execution_count": 24
        },
        {
          "output_type": "display_data",
          "data": {
            "text/plain": [
              "<Figure size 720x360 with 1 Axes>"
            ],
            "image/png": "[encoded data removed]"
          },
          "metadata": {
            "needs_background": "light"
          }
        }
      ]
    },
    {
      "cell_type": "code",
      "source": [
        "plt.rcParams['figure.figsize'] = (10, 5)\n",
        "sns.heatmap(df.corr(), cmap = 'coolwarm', annot = True)\n",
        "\n",
        "plt.show()"
      ],
      "metadata": {
        "id": "rE8DnyD6KWRV",
        "colab": {
          "base_uri": "https://localhost:8080/",
          "height": 401
        },
        "outputId": "6f1d96da-d974-48ac-a19e-1f1bc89ade7d"
      },
      "execution_count": null,
      "outputs": [
        {
          "output_type": "display_data",
          "data": {
            "text/plain": [
              "<Figure size 720x360 with 2 Axes>"
            ],
            "image/png": "[encoded data removed]"
          },
          "metadata": {
            "needs_background": "light"
          }
        }
      ]
    },
    {
      "cell_type": "code",
      "source": [
        "max_threshold = df['price'].quantile(0.95)\n",
        "max_threshold"
      ],
      "metadata": {
        "colab": {
          "base_uri": "https://localhost:8080/"
        },
        "id": "so5uFkemnOdh",
        "outputId": "f5802b2e-94c1-4542-8555-238835aa9a8a"
      },
      "execution_count": null,
      "outputs": [
        {
          "output_type": "execute_result",
          "data": {
            "text/plain": [
              "835000.0"
            ]
          },
          "metadata": {},
          "execution_count": 26
        }
      ]
    },
    {
      "cell_type": "code",
      "source": [
        "df[df['price']>max_threshold]"
      ],
      "metadata": {
        "colab": {
          "base_uri": "https://localhost:8080/",
          "height": 927
        },
        "id": "g9XsLMyHoVBI",
        "outputId": "267e1309-dcb6-469b-eba5-e9492f1f050f"
      },
      "execution_count": null,
      "outputs": [
        {
          "output_type": "execute_result",
          "data": {
            "text/plain": [
              "         price  bedrooms  bathrooms  parkingSpots  propertySize  \\\n",
              "21    985000.0       4.0        4.0           2.0         818.0   \n",
              "38   1590000.0       4.0        4.0           5.0        1490.0   \n",
              "44   2000000.0       5.0        6.0           6.0         652.0   \n",
              "50   3500000.0       4.0        7.0           7.0        1125.0   \n",
              "58   1400000.0       6.0        4.0           6.0         807.0   \n",
              "84   3950000.0       4.0        3.0           2.0         168.0   \n",
              "111  1600000.0       4.0        8.0           3.0         650.0   \n",
              "113  1100000.0       2.0        2.0           1.0          57.0   \n",
              "117  3500000.0       4.0        7.0           7.0        1125.0   \n",
              "119  2000000.0       5.0        6.0           6.0         652.0   \n",
              "133   949000.0       5.0        7.0           4.0         800.0   \n",
              "180   850000.0       3.0        4.0           2.0         400.0   \n",
              "196  1150000.0       3.0        3.0           5.0         530.0   \n",
              "205  1200000.0       4.0        5.0           3.0         449.0   \n",
              "210   880000.0       4.0        5.0           4.0         625.0   \n",
              "268   850000.0       3.0        4.0           2.0         400.0   \n",
              "331  1050000.0       5.0        5.0           2.0         295.0   \n",
              "353  1150000.0       3.0        3.0           5.0         530.0   \n",
              "358   880000.0       4.0        5.0           4.0         625.0   \n",
              "382   850000.0       3.0        4.0           2.0         400.0   \n",
              "430  1050000.0       5.0        5.0           2.0         295.0   \n",
              "461   949000.0       5.0        7.0           4.0         800.0   \n",
              "509  1390000.0       4.0        5.0           5.0        1490.0   \n",
              "530   850000.0       3.0        4.0           2.0         400.0   \n",
              "594   850000.0       4.0        5.0           3.0         633.0   \n",
              "619  1590000.0       4.0        6.0           5.0        1490.0   \n",
              "850   850000.0       4.0        5.0           3.0         633.0   \n",
              "865  1590000.0       4.0        6.0           5.0        1490.0   \n",
              "\n",
              "                            neighborhood        lat         lon  \\\n",
              "21       Lomas de Agua Caliente, Tijuana  32.499408 -116.989657   \n",
              "38       Hacienda Agua Caliente, Tijuana  32.488683 -116.999223   \n",
              "44                 Real del Mar, Tijuana  32.451725 -117.088234   \n",
              "50            Cumbres de Juarez, Tijuana  32.508715 -117.031595   \n",
              "58       Hacienda Agua Caliente, Tijuana  32.488683 -116.999223   \n",
              "84                     Santa Fe, Tijuana  32.494586 -116.962982   \n",
              "111           Cumbres de Juarez, Tijuana  32.508715 -117.031595   \n",
              "113                    Santa Fe, Tijuana  32.494586 -116.962982   \n",
              "117           Cumbres de Juarez, Tijuana  32.508715 -117.031595   \n",
              "119                Real del Mar, Tijuana  32.451725 -117.088234   \n",
              "133      Lomas de Agua Caliente, Tijuana  32.499408 -116.989657   \n",
              "180                 Chapultepec, Tijuana  32.505132 -117.010259   \n",
              "196      Hacienda Agua Caliente, Tijuana  32.488683 -116.999223   \n",
              "205    Colinas de Agua Caliente, Tijuana  32.491012 -116.994808   \n",
              "210      Hacienda Agua Caliente, Tijuana  32.488683 -116.999223   \n",
              "268                 Chapultepec, Tijuana  32.505132 -117.010259   \n",
              "331               Punta Bandera, Tijuana  32.469865 -117.118754   \n",
              "353      Hacienda Agua Caliente, Tijuana  32.488683 -116.999223   \n",
              "358      Hacienda Agua Caliente, Tijuana  32.488683 -116.999223   \n",
              "382                 Chapultepec, Tijuana  32.505132 -117.010259   \n",
              "430               Punta Bandera, Tijuana  32.469865 -117.118754   \n",
              "461      Lomas de Agua Caliente, Tijuana  32.499408 -116.989657   \n",
              "509      Hacienda Agua Caliente, Tijuana  32.488683 -116.999223   \n",
              "530                 Chapultepec, Tijuana  32.505132 -117.010259   \n",
              "594  Costa Coronado Residencial, Tijuana  32.517527 -117.106620   \n",
              "619      Hacienda Agua Caliente, Tijuana  32.488683 -116.999223   \n",
              "850  Costa Coronado Residencial, Tijuana  32.517527 -117.106620   \n",
              "865      Hacienda Agua Caliente, Tijuana  32.488683 -116.999223   \n",
              "\n",
              "     distance_SY (km)  distance_OT (km)  \n",
              "21           5.874703          7.077279  \n",
              "38           6.442931          8.562526  \n",
              "44          11.486710         17.555111  \n",
              "50           3.659052          9.702559  \n",
              "58           6.442931          8.562526  \n",
              "84           7.992309          6.154112  \n",
              "111          3.659052          9.702559  \n",
              "113          7.992309          6.154112  \n",
              "117          3.659052          9.702559  \n",
              "119         11.486710         17.555111  \n",
              "133          5.874703          7.077279  \n",
              "180          4.353095          8.149985  \n",
              "196          6.442931          8.562526  \n",
              "205          6.396278          8.093498  \n",
              "210          6.442931          8.562526  \n",
              "268          4.353095          8.149985  \n",
              "331         11.683670         18.946236  \n",
              "353          6.442931          8.562526  \n",
              "358          6.442931          8.562526  \n",
              "382          4.353095          8.149985  \n",
              "430         11.683670         18.946236  \n",
              "461          5.874703          7.077279  \n",
              "509          6.442931          8.562526  \n",
              "530          4.353095          8.149985  \n",
              "594          7.874232         16.129476  \n",
              "619          6.442931          8.562526  \n",
              "850          7.874232         16.129476  \n",
              "865          6.442931          8.562526  "
            ],
            "text/html": [
              "\n",
              "  <div id=\"df-102f50ad-c8b2-4921-887e-dda66ab6005d\">\n",
              "    <div class=\"colab-df-container\">\n",
              "      <div>\n",
              "<style scoped>\n",
              "    .dataframe tbody tr th:only-of-type {\n",
              "        vertical-align: middle;\n",
              "    }\n",
              "\n",
              "    .dataframe tbody tr th {\n",
              "        vertical-align: top;\n",
              "    }\n",
              "\n",
              "    .dataframe thead th {\n",
              "        text-align: right;\n",
              "    }\n",
              "</style>\n",
              "<table border=\"1\" class=\"dataframe\">\n",
              "  <thead>\n",
              "    <tr style=\"text-align: right;\">\n",
              "      <th></th>\n",
              "      <th>price</th>\n",
              "      <th>bedrooms</th>\n",
              "      <th>bathrooms</th>\n",
              "      <th>parkingSpots</th>\n",
              "      <th>propertySize</th>\n",
              "      <th>neighborhood</th>\n",
              "      <th>lat</th>\n",
              "      <th>lon</th>\n",
              "      <th>distance_SY (km)</th>\n",
              "      <th>distance_OT (km)</th>\n",
              "    </tr>\n",
              "  </thead>\n",
              "  <tbody>\n",
              "    <tr>\n",
              "      <th>21</th>\n",
              "      <td>985000.0</td>\n",
              "      <td>4.0</td>\n",
              "      <td>4.0</td>\n",
              "      <td>2.0</td>\n",
              "      <td>818.0</td>\n",
              "      <td>Lomas de Agua Caliente, Tijuana</td>\n",
              "      <td>32.499408</td>\n",
              "      <td>-116.989657</td>\n",
              "      <td>5.874703</td>\n",
              "      <td>7.077279</td>\n",
              "    </tr>\n",
              "    <tr>\n",
              "      <th>38</th>\n",
              "      <td>1590000.0</td>\n",
              "      <td>4.0</td>\n",
              "      <td>4.0</td>\n",
              "      <td>5.0</td>\n",
              "      <td>1490.0</td>\n",
              "      <td>Hacienda Agua Caliente, Tijuana</td>\n",
              "      <td>32.488683</td>\n",
              "      <td>-116.999223</td>\n",
              "      <td>6.442931</td>\n",
              "      <td>8.562526</td>\n",
              "    </tr>\n",
              "    <tr>\n",
              "      <th>44</th>\n",
              "      <td>2000000.0</td>\n",
              "      <td>5.0</td>\n",
              "      <td>6.0</td>\n",
              "      <td>6.0</td>\n",
              "      <td>652.0</td>\n",
              "      <td>Real del Mar, Tijuana</td>\n",
              "      <td>32.451725</td>\n",
              "      <td>-117.088234</td>\n",
              "      <td>11.486710</td>\n",
              "      <td>17.555111</td>\n",
              "    </tr>\n",
              "    <tr>\n",
              "      <th>50</th>\n",
              "      <td>3500000.0</td>\n",
              "      <td>4.0</td>\n",
              "      <td>7.0</td>\n",
              "      <td>7.0</td>\n",
              "      <td>1125.0</td>\n",
              "      <td>Cumbres de Juarez, Tijuana</td>\n",
              "      <td>32.508715</td>\n",
              "      <td>-117.031595</td>\n",
              "      <td>3.659052</td>\n",
              "      <td>9.702559</td>\n",
              "    </tr>\n",
              "    <tr>\n",
              "      <th>58</th>\n",
              "      <td>1400000.0</td>\n",
              "      <td>6.0</td>\n",
              "      <td>4.0</td>\n",
              "      <td>6.0</td>\n",
              "      <td>807.0</td>\n",
              "      <td>Hacienda Agua Caliente, Tijuana</td>\n",
              "      <td>32.488683</td>\n",
              "      <td>-116.999223</td>\n",
              "      <td>6.442931</td>\n",
              "      <td>8.562526</td>\n",
              "    </tr>\n",
              "    <tr>\n",
              "      <th>84</th>\n",
              "      <td>3950000.0</td>\n",
              "      <td>4.0</td>\n",
              "      <td>3.0</td>\n",
              "      <td>2.0</td>\n",
              "      <td>168.0</td>\n",
              "      <td>Santa Fe, Tijuana</td>\n",
              "      <td>32.494586</td>\n",
              "      <td>-116.962982</td>\n",
              "      <td>7.992309</td>\n",
              "      <td>6.154112</td>\n",
              "    </tr>\n",
              "    <tr>\n",
              "      <th>111</th>\n",
              "      <td>1600000.0</td>\n",
              "      <td>4.0</td>\n",
              "      <td>8.0</td>\n",
              "      <td>3.0</td>\n",
              "      <td>650.0</td>\n",
              "      <td>Cumbres de Juarez, Tijuana</td>\n",
              "      <td>32.508715</td>\n",
              "      <td>-117.031595</td>\n",
              "      <td>3.659052</td>\n",
              "      <td>9.702559</td>\n",
              "    </tr>\n",
              "    <tr>\n",
              "      <th>113</th>\n",
              "      <td>1100000.0</td>\n",
              "      <td>2.0</td>\n",
              "      <td>2.0</td>\n",
              "      <td>1.0</td>\n",
              "      <td>57.0</td>\n",
              "      <td>Santa Fe, Tijuana</td>\n",
              "      <td>32.494586</td>\n",
              "      <td>-116.962982</td>\n",
              "      <td>7.992309</td>\n",
              "      <td>6.154112</td>\n",
              "    </tr>\n",
              "    <tr>\n",
              "      <th>117</th>\n",
              "      <td>3500000.0</td>\n",
              "      <td>4.0</td>\n",
              "      <td>7.0</td>\n",
              "      <td>7.0</td>\n",
              "      <td>1125.0</td>\n",
              "      <td>Cumbres de Juarez, Tijuana</td>\n",
              "      <td>32.508715</td>\n",
              "      <td>-117.031595</td>\n",
              "      <td>3.659052</td>\n",
              "      <td>9.702559</td>\n",
              "    </tr>\n",
              "    <tr>\n",
              "      <th>119</th>\n",
              "      <td>2000000.0</td>\n",
              "      <td>5.0</td>\n",
              "      <td>6.0</td>\n",
              "      <td>6.0</td>\n",
              "      <td>652.0</td>\n",
              "      <td>Real del Mar, Tijuana</td>\n",
              "      <td>32.451725</td>\n",
              "      <td>-117.088234</td>\n",
              "      <td>11.486710</td>\n",
              "      <td>17.555111</td>\n",
              "    </tr>\n",
              "    <tr>\n",
              "      <th>133</th>\n",
              "      <td>949000.0</td>\n",
              "      <td>5.0</td>\n",
              "      <td>7.0</td>\n",
              "      <td>4.0</td>\n",
              "      <td>800.0</td>\n",
              "      <td>Lomas de Agua Caliente, Tijuana</td>\n",
              "      <td>32.499408</td>\n",
              "      <td>-116.989657</td>\n",
              "      <td>5.874703</td>\n",
              "      <td>7.077279</td>\n",
              "    </tr>\n",
              "    <tr>\n",
              "      <th>180</th>\n",
              "      <td>850000.0</td>\n",
              "      <td>3.0</td>\n",
              "      <td>4.0</td>\n",
              "      <td>2.0</td>\n",
              "      <td>400.0</td>\n",
              "      <td>Chapultepec, Tijuana</td>\n",
              "      <td>32.505132</td>\n",
              "      <td>-117.010259</td>\n",
              "      <td>4.353095</td>\n",
              "      <td>8.149985</td>\n",
              "    </tr>\n",
              "    <tr>\n",
              "      <th>196</th>\n",
              "      <td>1150000.0</td>\n",
              "      <td>3.0</td>\n",
              "      <td>3.0</td>\n",
              "      <td>5.0</td>\n",
              "      <td>530.0</td>\n",
              "      <td>Hacienda Agua Caliente, Tijuana</td>\n",
              "      <td>32.488683</td>\n",
              "      <td>-116.999223</td>\n",
              "      <td>6.442931</td>\n",
              "      <td>8.562526</td>\n",
              "    </tr>\n",
              "    <tr>\n",
              "      <th>205</th>\n",
              "      <td>1200000.0</td>\n",
              "      <td>4.0</td>\n",
              "      <td>5.0</td>\n",
              "      <td>3.0</td>\n",
              "      <td>449.0</td>\n",
              "      <td>Colinas de Agua Caliente, Tijuana</td>\n",
              "      <td>32.491012</td>\n",
              "      <td>-116.994808</td>\n",
              "      <td>6.396278</td>\n",
              "      <td>8.093498</td>\n",
              "    </tr>\n",
              "    <tr>\n",
              "      <th>210</th>\n",
              "      <td>880000.0</td>\n",
              "      <td>4.0</td>\n",
              "      <td>5.0</td>\n",
              "      <td>4.0</td>\n",
              "      <td>625.0</td>\n",
              "      <td>Hacienda Agua Caliente, Tijuana</td>\n",
              "      <td>32.488683</td>\n",
              "      <td>-116.999223</td>\n",
              "      <td>6.442931</td>\n",
              "      <td>8.562526</td>\n",
              "    </tr>\n",
              "    <tr>\n",
              "      <th>268</th>\n",
              "      <td>850000.0</td>\n",
              "      <td>3.0</td>\n",
              "      <td>4.0</td>\n",
              "      <td>2.0</td>\n",
              "      <td>400.0</td>\n",
              "      <td>Chapultepec, Tijuana</td>\n",
              "      <td>32.505132</td>\n",
              "      <td>-117.010259</td>\n",
              "      <td>4.353095</td>\n",
              "      <td>8.149985</td>\n",
              "    </tr>\n",
              "    <tr>\n",
              "      <th>331</th>\n",
              "      <td>1050000.0</td>\n",
              "      <td>5.0</td>\n",
              "      <td>5.0</td>\n",
              "      <td>2.0</td>\n",
              "      <td>295.0</td>\n",
              "      <td>Punta Bandera, Tijuana</td>\n",
              "      <td>32.469865</td>\n",
              "      <td>-117.118754</td>\n",
              "      <td>11.683670</td>\n",
              "      <td>18.946236</td>\n",
              "    </tr>\n",
              "    <tr>\n",
              "      <th>353</th>\n",
              "      <td>1150000.0</td>\n",
              "      <td>3.0</td>\n",
              "      <td>3.0</td>\n",
              "      <td>5.0</td>\n",
              "      <td>530.0</td>\n",
              "      <td>Hacienda Agua Caliente, Tijuana</td>\n",
              "      <td>32.488683</td>\n",
              "      <td>-116.999223</td>\n",
              "      <td>6.442931</td>\n",
              "      <td>8.562526</td>\n",
              "    </tr>\n",
              "    <tr>\n",
              "      <th>358</th>\n",
              "      <td>880000.0</td>\n",
              "      <td>4.0</td>\n",
              "      <td>5.0</td>\n",
              "      <td>4.0</td>\n",
              "      <td>625.0</td>\n",
              "      <td>Hacienda Agua Caliente, Tijuana</td>\n",
              "      <td>32.488683</td>\n",
              "      <td>-116.999223</td>\n",
              "      <td>6.442931</td>\n",
              "      <td>8.562526</td>\n",
              "    </tr>\n",
              "    <tr>\n",
              "      <th>382</th>\n",
              "      <td>850000.0</td>\n",
              "      <td>3.0</td>\n",
              "      <td>4.0</td>\n",
              "      <td>2.0</td>\n",
              "      <td>400.0</td>\n",
              "      <td>Chapultepec, Tijuana</td>\n",
              "      <td>32.505132</td>\n",
              "      <td>-117.010259</td>\n",
              "      <td>4.353095</td>\n",
              "      <td>8.149985</td>\n",
              "    </tr>\n",
              "    <tr>\n",
              "      <th>430</th>\n",
              "      <td>1050000.0</td>\n",
              "      <td>5.0</td>\n",
              "      <td>5.0</td>\n",
              "      <td>2.0</td>\n",
              "      <td>295.0</td>\n",
              "      <td>Punta Bandera, Tijuana</td>\n",
              "      <td>32.469865</td>\n",
              "      <td>-117.118754</td>\n",
              "      <td>11.683670</td>\n",
              "      <td>18.946236</td>\n",
              "    </tr>\n",
              "    <tr>\n",
              "      <th>461</th>\n",
              "      <td>949000.0</td>\n",
              "      <td>5.0</td>\n",
              "      <td>7.0</td>\n",
              "      <td>4.0</td>\n",
              "      <td>800.0</td>\n",
              "      <td>Lomas de Agua Caliente, Tijuana</td>\n",
              "      <td>32.499408</td>\n",
              "      <td>-116.989657</td>\n",
              "      <td>5.874703</td>\n",
              "      <td>7.077279</td>\n",
              "    </tr>\n",
              "    <tr>\n",
              "      <th>509</th>\n",
              "      <td>1390000.0</td>\n",
              "      <td>4.0</td>\n",
              "      <td>5.0</td>\n",
              "      <td>5.0</td>\n",
              "      <td>1490.0</td>\n",
              "      <td>Hacienda Agua Caliente, Tijuana</td>\n",
              "      <td>32.488683</td>\n",
              "      <td>-116.999223</td>\n",
              "      <td>6.442931</td>\n",
              "      <td>8.562526</td>\n",
              "    </tr>\n",
              "    <tr>\n",
              "      <th>530</th>\n",
              "      <td>850000.0</td>\n",
              "      <td>3.0</td>\n",
              "      <td>4.0</td>\n",
              "      <td>2.0</td>\n",
              "      <td>400.0</td>\n",
              "      <td>Chapultepec, Tijuana</td>\n",
              "      <td>32.505132</td>\n",
              "      <td>-117.010259</td>\n",
              "      <td>4.353095</td>\n",
              "      <td>8.149985</td>\n",
              "    </tr>\n",
              "    <tr>\n",
              "      <th>594</th>\n",
              "      <td>850000.0</td>\n",
              "      <td>4.0</td>\n",
              "      <td>5.0</td>\n",
              "      <td>3.0</td>\n",
              "      <td>633.0</td>\n",
              "      <td>Costa Coronado Residencial, Tijuana</td>\n",
              "      <td>32.517527</td>\n",
              "      <td>-117.106620</td>\n",
              "      <td>7.874232</td>\n",
              "      <td>16.129476</td>\n",
              "    </tr>\n",
              "    <tr>\n",
              "      <th>619</th>\n",
              "      <td>1590000.0</td>\n",
              "      <td>4.0</td>\n",
              "      <td>6.0</td>\n",
              "      <td>5.0</td>\n",
              "      <td>1490.0</td>\n",
              "      <td>Hacienda Agua Caliente, Tijuana</td>\n",
              "      <td>32.488683</td>\n",
              "      <td>-116.999223</td>\n",
              "      <td>6.442931</td>\n",
              "      <td>8.562526</td>\n",
              "    </tr>\n",
              "    <tr>\n",
              "      <th>850</th>\n",
              "      <td>850000.0</td>\n",
              "      <td>4.0</td>\n",
              "      <td>5.0</td>\n",
              "      <td>3.0</td>\n",
              "      <td>633.0</td>\n",
              "      <td>Costa Coronado Residencial, Tijuana</td>\n",
              "      <td>32.517527</td>\n",
              "      <td>-117.106620</td>\n",
              "      <td>7.874232</td>\n",
              "      <td>16.129476</td>\n",
              "    </tr>\n",
              "    <tr>\n",
              "      <th>865</th>\n",
              "      <td>1590000.0</td>\n",
              "      <td>4.0</td>\n",
              "      <td>6.0</td>\n",
              "      <td>5.0</td>\n",
              "      <td>1490.0</td>\n",
              "      <td>Hacienda Agua Caliente, Tijuana</td>\n",
              "      <td>32.488683</td>\n",
              "      <td>-116.999223</td>\n",
              "      <td>6.442931</td>\n",
              "      <td>8.562526</td>\n",
              "    </tr>\n",
              "  </tbody>\n",
              "</table>\n",
              "</div>\n",
              "      <button class=\"colab-df-convert\" onclick=\"convertToInteractive('df-102f50ad-c8b2-4921-887e-dda66ab6005d')\"\n",
              "              title=\"Convert this dataframe to an interactive table.\"\n",
              "              style=\"display:none;\">\n",
              "        \n",
              "  <svg xmlns=\"http://www.w3.org/2000/svg\" height=\"24px\"viewBox=\"0 0 24 24\"\n",
              "       width=\"24px\">\n",
              "    <path d=\"M0 0h24v24H0V0z\" fill=\"none\"/>\n",
              "    <path d=\"M18.56 5.44l.94 2.06.94-2.06 2.06-.94-2.06-.94-.94-2.06-.94 2.06-2.06.94zm-11 1L8.5 8.5l.94-2.06 2.06-.94-2.06-.94L8.5 2.5l-.94 2.06-2.06.94zm10 10l.94 2.06.94-2.06 2.06-.94-2.06-.94-.94-2.06-.94 2.06-2.06.94z\"/><path d=\"M17.41 7.96l-1.37-1.37c-.4-.4-.92-.59-1.43-.59-.52 0-1.04.2-1.43.59L10.3 9.45l-7.72 7.72c-.78.78-.78 2.05 0 2.83L4 21.41c.39.39.9.59 1.41.59.51 0 1.02-.2 1.41-.59l7.78-7.78 2.81-2.81c.8-.78.8-2.07 0-2.86zM5.41 20L4 18.59l7.72-7.72 1.47 1.35L5.41 20z\"/>\n",
              "  </svg>\n",
              "      </button>\n",
              "      \n",
              "  <style>\n",
              "    .colab-df-container {\n",
              "      display:flex;\n",
              "      flex-wrap:wrap;\n",
              "      gap: 12px;\n",
              "    }\n",
              "\n",
              "    .colab-df-convert {\n",
              "      background-color: #E8F0FE;\n",
              "      border: none;\n",
              "      border-radius: 50%;\n",
              "      cursor: pointer;\n",
              "      display: none;\n",
              "      fill: #1967D2;\n",
              "      height: 32px;\n",
              "      padding: 0 0 0 0;\n",
              "      width: 32px;\n",
              "    }\n",
              "\n",
              "    .colab-df-convert:hover {\n",
              "      background-color: #E2EBFA;\n",
              "      box-shadow: 0px 1px 2px rgba(60, 64, 67, 0.3), 0px 1px 3px 1px rgba(60, 64, 67, 0.15);\n",
              "      fill: #174EA6;\n",
              "    }\n",
              "\n",
              "    [theme=dark] .colab-df-convert {\n",
              "      background-color: #3B4455;\n",
              "      fill: #D2E3FC;\n",
              "    }\n",
              "\n",
              "    [theme=dark] .colab-df-convert:hover {\n",
              "      background-color: #434B5C;\n",
              "      box-shadow: 0px 1px 3px 1px rgba(0, 0, 0, 0.15);\n",
              "      filter: drop-shadow(0px 1px 2px rgba(0, 0, 0, 0.3));\n",
              "      fill: #FFFFFF;\n",
              "    }\n",
              "  </style>\n",
              "\n",
              "      <script>\n",
              "        const buttonEl =\n",
              "          document.querySelector('#df-102f50ad-c8b2-4921-887e-dda66ab6005d button.colab-df-convert');\n",
              "        buttonEl.style.display =\n",
              "          google.colab.kernel.accessAllowed ? 'block' : 'none';\n",
              "\n",
              "        async function convertToInteractive(key) {\n",
              "          const element = document.querySelector('#df-102f50ad-c8b2-4921-887e-dda66ab6005d');\n",
              "          const dataTable =\n",
              "            await google.colab.kernel.invokeFunction('convertToInteractive',\n",
              "                                                     [key], {});\n",
              "          if (!dataTable) return;\n",
              "\n",
              "          const docLinkHtml = 'Like what you see? Visit the ' +\n",
              "            '<a target=\"_blank\" href=https://colab.research.google.com/notebooks/data_table.ipynb>data table notebook</a>'\n",
              "            + ' to learn more about interactive tables.';\n",
              "          element.innerHTML = '';\n",
              "          dataTable['output_type'] = 'display_data';\n",
              "          await google.colab.output.renderOutput(dataTable, element);\n",
              "          const docLink = document.createElement('div');\n",
              "          docLink.innerHTML = docLinkHtml;\n",
              "          element.appendChild(docLink);\n",
              "        }\n",
              "      </script>\n",
              "    </div>\n",
              "  </div>\n",
              "  "
            ]
          },
          "metadata": {},
          "execution_count": 27
        }
      ]
    },
    {
      "cell_type": "code",
      "source": [
        "min_threshold = df['price'].quantile(0.05)\n",
        "min_threshold"
      ],
      "metadata": {
        "colab": {
          "base_uri": "https://localhost:8080/"
        },
        "id": "L6Bp3TSEolPX",
        "outputId": "8cc6b2f6-4f52-4101-b3b7-bb924de54f9d"
      },
      "execution_count": null,
      "outputs": [
        {
          "output_type": "execute_result",
          "data": {
            "text/plain": [
              "28435.4625"
            ]
          },
          "metadata": {},
          "execution_count": 28
        }
      ]
    },
    {
      "cell_type": "code",
      "source": [
        "df[df['price']<min_threshold]"
      ],
      "metadata": {
        "colab": {
          "base_uri": "https://localhost:8080/",
          "height": 959
        },
        "id": "hIxLvsmDouaP",
        "outputId": "0ff59e9a-686d-4fa1-dd3d-ecb7ac0daa75"
      },
      "execution_count": null,
      "outputs": [
        {
          "output_type": "execute_result",
          "data": {
            "text/plain": [
              "        price  bedrooms  bathrooms  parkingSpots  propertySize  \\\n",
              "137  27791.85       2.0        1.0           1.0         200.0   \n",
              "374  25168.70       3.0        1.0           1.0         150.0   \n",
              "537   9750.00       1.0        1.0           1.0          68.0   \n",
              "552  15750.00       1.0        1.0           1.0         125.0   \n",
              "556  26000.00       3.0        1.0           1.0          73.0   \n",
              "583  26250.00       3.0        2.0           1.0          73.0   \n",
              "592  15000.00       1.0        1.0           2.0          40.0   \n",
              "607  23950.00       2.0        1.0           1.0          75.0   \n",
              "615  10000.00       1.0        1.0           2.0         125.0   \n",
              "626  26250.00       2.0        1.0           1.0          90.0   \n",
              "638   9750.00       1.0        1.0           1.0          68.0   \n",
              "645  26250.00       2.0        1.0           1.0         102.0   \n",
              "669  25750.00       2.0        1.0           1.0          65.0   \n",
              "686  21000.00       3.0        1.0           1.0         140.0   \n",
              "689  19000.00       2.0        1.0           1.0         102.0   \n",
              "692  26850.00       2.0        1.0           1.0          78.0   \n",
              "707  23750.00       2.0        1.0           1.0          85.0   \n",
              "712  25000.00       2.0        1.0           1.0          41.0   \n",
              "720  22500.00       2.0        1.0           1.0         120.0   \n",
              "728  12500.00       1.0        1.0           2.0         125.0   \n",
              "784  23000.00       1.0        1.0           1.0          68.0   \n",
              "800  11250.00       1.0        1.0           1.0         125.0   \n",
              "809  14000.00       1.0        1.0           1.0          68.0   \n",
              "813   9250.00       1.0        1.0           1.0          50.0   \n",
              "817  12500.00       1.0        1.0           2.0         125.0   \n",
              "840  27500.00       2.0        1.0           1.0          80.0   \n",
              "844  13000.00       1.0        1.0           2.0         125.0   \n",
              "846  21000.00       3.0        1.0           1.0         140.0   \n",
              "851  12000.00       1.0        1.0           2.0          40.0   \n",
              "\n",
              "                              neighborhood        lat         lon  \\\n",
              "137      Residencial La Esperanza, Tijuana  32.481840 -117.004741   \n",
              "374                Villa Fontana , Tijuana  32.508846 -116.868948   \n",
              "537             Lomas del Refugio, Tijuana  32.463219 -116.827715   \n",
              "552                   El Jibarito, Tijuana  32.477885 -117.074260   \n",
              "556         Real de San Francisco, Tijuana  32.486000 -116.854223   \n",
              "583                Lomas Virreyes, Tijuana  32.457582 -116.886617   \n",
              "592                   El Jibarito, Tijuana  32.477885 -117.074260   \n",
              "607                     El Laurel, Tijuana  32.463331 -116.835815   \n",
              "615                   El Jibarito, Tijuana  32.477885 -117.074260   \n",
              "626          Hacienda Santa Maria, Tijuana  32.469177 -116.844651   \n",
              "638             Lomas del Refugio, Tijuana  32.463219 -116.827715   \n",
              "645                Villa Fontana , Tijuana  32.508846 -116.868948   \n",
              "669         Real de San Francisco, Tijuana  32.486000 -116.854223   \n",
              "686                 Cuesta Blanca, Tijuana  32.513744 -117.025015   \n",
              "689                Villa Fontana , Tijuana  32.508846 -116.868948   \n",
              "692           Canadas del Florido, Tijuana  32.464340 -116.857168   \n",
              "707                    El Refugio, Tijuana  32.457971 -116.827715   \n",
              "712           Canadas del Florido, Tijuana  32.464340 -116.857168   \n",
              "720           Real de San Antonio, Tijuana  32.439064 -117.044978   \n",
              "728                   El Jibarito, Tijuana  32.477885 -117.074260   \n",
              "784             Lomas del Refugio, Tijuana  32.463219 -116.827715   \n",
              "800                   El Jibarito, Tijuana  32.477885 -117.074260   \n",
              "809             Lomas del Refugio, Tijuana  32.463219 -116.827715   \n",
              "813                    Los Valles, Tijuana  32.389551 -116.954335   \n",
              "817                   El Jibarito, Tijuana  32.477885 -117.074260   \n",
              "840  Villa Residencial del Bosque, Tijuana  32.512386 -116.830660   \n",
              "844                   El Jibarito, Tijuana  32.477885 -117.074260   \n",
              "846                 Cuesta Blanca, Tijuana  32.513744 -117.025015   \n",
              "851                   El Jibarito, Tijuana  32.477885 -117.074260   \n",
              "\n",
              "     distance_SY (km)  distance_OT (km)  \n",
              "137          6.966864          9.475076  \n",
              "374         15.313288          7.657272  \n",
              "537         20.669994         13.821473  \n",
              "552          8.314692         14.849333  \n",
              "556         17.390964         10.281800  \n",
              "583         16.183049         10.919768  \n",
              "592          8.314692         14.849333  \n",
              "607         19.977853         13.254199  \n",
              "615          8.314692         14.849333  \n",
              "626         18.949515         12.206025  \n",
              "638         20.669994         13.821473  \n",
              "645         15.313288          7.657272  \n",
              "669         17.390964         10.281800  \n",
              "686          3.089787          8.909674  \n",
              "689         15.313288          7.657272  \n",
              "692         18.141594         11.801646  \n",
              "707         20.922881         14.215918  \n",
              "712         18.141594         11.801646  \n",
              "720         11.503274         15.544577  \n",
              "728          8.314692         14.849333  \n",
              "784         20.669994         13.821473  \n",
              "800          8.314692         14.849333  \n",
              "809         20.669994         13.821473  \n",
              "813         18.239480         17.438154  \n",
              "817          8.314692         14.849333  \n",
              "840         18.748984         10.718605  \n",
              "844          8.314692         14.849333  \n",
              "846          3.089787          8.909674  \n",
              "851          8.314692         14.849333  "
            ],
            "text/html": [
              "\n",
              "  <div id=\"df-6356fecf-ec39-4841-8fd5-690669b6bf98\">\n",
              "    <div class=\"colab-df-container\">\n",
              "      <div>\n",
              "<style scoped>\n",
              "    .dataframe tbody tr th:only-of-type {\n",
              "        vertical-align: middle;\n",
              "    }\n",
              "\n",
              "    .dataframe tbody tr th {\n",
              "        vertical-align: top;\n",
              "    }\n",
              "\n",
              "    .dataframe thead th {\n",
              "        text-align: right;\n",
              "    }\n",
              "</style>\n",
              "<table border=\"1\" class=\"dataframe\">\n",
              "  <thead>\n",
              "    <tr style=\"text-align: right;\">\n",
              "      <th></th>\n",
              "      <th>price</th>\n",
              "      <th>bedrooms</th>\n",
              "      <th>bathrooms</th>\n",
              "      <th>parkingSpots</th>\n",
              "      <th>propertySize</th>\n",
              "      <th>neighborhood</th>\n",
              "      <th>lat</th>\n",
              "      <th>lon</th>\n",
              "      <th>distance_SY (km)</th>\n",
              "      <th>distance_OT (km)</th>\n",
              "    </tr>\n",
              "  </thead>\n",
              "  <tbody>\n",
              "    <tr>\n",
              "      <th>137</th>\n",
              "      <td>27791.85</td>\n",
              "      <td>2.0</td>\n",
              "      <td>1.0</td>\n",
              "      <td>1.0</td>\n",
              "      <td>200.0</td>\n",
              "      <td>Residencial La Esperanza, Tijuana</td>\n",
              "      <td>32.481840</td>\n",
              "      <td>-117.004741</td>\n",
              "      <td>6.966864</td>\n",
              "      <td>9.475076</td>\n",
              "    </tr>\n",
              "    <tr>\n",
              "      <th>374</th>\n",
              "      <td>25168.70</td>\n",
              "      <td>3.0</td>\n",
              "      <td>1.0</td>\n",
              "      <td>1.0</td>\n",
              "      <td>150.0</td>\n",
              "      <td>Villa Fontana , Tijuana</td>\n",
              "      <td>32.508846</td>\n",
              "      <td>-116.868948</td>\n",
              "      <td>15.313288</td>\n",
              "      <td>7.657272</td>\n",
              "    </tr>\n",
              "    <tr>\n",
              "      <th>537</th>\n",
              "      <td>9750.00</td>\n",
              "      <td>1.0</td>\n",
              "      <td>1.0</td>\n",
              "      <td>1.0</td>\n",
              "      <td>68.0</td>\n",
              "      <td>Lomas del Refugio, Tijuana</td>\n",
              "      <td>32.463219</td>\n",
              "      <td>-116.827715</td>\n",
              "      <td>20.669994</td>\n",
              "      <td>13.821473</td>\n",
              "    </tr>\n",
              "    <tr>\n",
              "      <th>552</th>\n",
              "      <td>15750.00</td>\n",
              "      <td>1.0</td>\n",
              "      <td>1.0</td>\n",
              "      <td>1.0</td>\n",
              "      <td>125.0</td>\n",
              "      <td>El Jibarito, Tijuana</td>\n",
              "      <td>32.477885</td>\n",
              "      <td>-117.074260</td>\n",
              "      <td>8.314692</td>\n",
              "      <td>14.849333</td>\n",
              "    </tr>\n",
              "    <tr>\n",
              "      <th>556</th>\n",
              "      <td>26000.00</td>\n",
              "      <td>3.0</td>\n",
              "      <td>1.0</td>\n",
              "      <td>1.0</td>\n",
              "      <td>73.0</td>\n",
              "      <td>Real de San Francisco, Tijuana</td>\n",
              "      <td>32.486000</td>\n",
              "      <td>-116.854223</td>\n",
              "      <td>17.390964</td>\n",
              "      <td>10.281800</td>\n",
              "    </tr>\n",
              "    <tr>\n",
              "      <th>583</th>\n",
              "      <td>26250.00</td>\n",
              "      <td>3.0</td>\n",
              "      <td>2.0</td>\n",
              "      <td>1.0</td>\n",
              "      <td>73.0</td>\n",
              "      <td>Lomas Virreyes, Tijuana</td>\n",
              "      <td>32.457582</td>\n",
              "      <td>-116.886617</td>\n",
              "      <td>16.183049</td>\n",
              "      <td>10.919768</td>\n",
              "    </tr>\n",
              "    <tr>\n",
              "      <th>592</th>\n",
              "      <td>15000.00</td>\n",
              "      <td>1.0</td>\n",
              "      <td>1.0</td>\n",
              "      <td>2.0</td>\n",
              "      <td>40.0</td>\n",
              "      <td>El Jibarito, Tijuana</td>\n",
              "      <td>32.477885</td>\n",
              "      <td>-117.074260</td>\n",
              "      <td>8.314692</td>\n",
              "      <td>14.849333</td>\n",
              "    </tr>\n",
              "    <tr>\n",
              "      <th>607</th>\n",
              "      <td>23950.00</td>\n",
              "      <td>2.0</td>\n",
              "      <td>1.0</td>\n",
              "      <td>1.0</td>\n",
              "      <td>75.0</td>\n",
              "      <td>El Laurel, Tijuana</td>\n",
              "      <td>32.463331</td>\n",
              "      <td>-116.835815</td>\n",
              "      <td>19.977853</td>\n",
              "      <td>13.254199</td>\n",
              "    </tr>\n",
              "    <tr>\n",
              "      <th>615</th>\n",
              "      <td>10000.00</td>\n",
              "      <td>1.0</td>\n",
              "      <td>1.0</td>\n",
              "      <td>2.0</td>\n",
              "      <td>125.0</td>\n",
              "      <td>El Jibarito, Tijuana</td>\n",
              "      <td>32.477885</td>\n",
              "      <td>-117.074260</td>\n",
              "      <td>8.314692</td>\n",
              "      <td>14.849333</td>\n",
              "    </tr>\n",
              "    <tr>\n",
              "      <th>626</th>\n",
              "      <td>26250.00</td>\n",
              "      <td>2.0</td>\n",
              "      <td>1.0</td>\n",
              "      <td>1.0</td>\n",
              "      <td>90.0</td>\n",
              "      <td>Hacienda Santa Maria, Tijuana</td>\n",
              "      <td>32.469177</td>\n",
              "      <td>-116.844651</td>\n",
              "      <td>18.949515</td>\n",
              "      <td>12.206025</td>\n",
              "    </tr>\n",
              "    <tr>\n",
              "      <th>638</th>\n",
              "      <td>9750.00</td>\n",
              "      <td>1.0</td>\n",
              "      <td>1.0</td>\n",
              "      <td>1.0</td>\n",
              "      <td>68.0</td>\n",
              "      <td>Lomas del Refugio, Tijuana</td>\n",
              "      <td>32.463219</td>\n",
              "      <td>-116.827715</td>\n",
              "      <td>20.669994</td>\n",
              "      <td>13.821473</td>\n",
              "    </tr>\n",
              "    <tr>\n",
              "      <th>645</th>\n",
              "      <td>26250.00</td>\n",
              "      <td>2.0</td>\n",
              "      <td>1.0</td>\n",
              "      <td>1.0</td>\n",
              "      <td>102.0</td>\n",
              "      <td>Villa Fontana , Tijuana</td>\n",
              "      <td>32.508846</td>\n",
              "      <td>-116.868948</td>\n",
              "      <td>15.313288</td>\n",
              "      <td>7.657272</td>\n",
              "    </tr>\n",
              "    <tr>\n",
              "      <th>669</th>\n",
              "      <td>25750.00</td>\n",
              "      <td>2.0</td>\n",
              "      <td>1.0</td>\n",
              "      <td>1.0</td>\n",
              "      <td>65.0</td>\n",
              "      <td>Real de San Francisco, Tijuana</td>\n",
              "      <td>32.486000</td>\n",
              "      <td>-116.854223</td>\n",
              "      <td>17.390964</td>\n",
              "      <td>10.281800</td>\n",
              "    </tr>\n",
              "    <tr>\n",
              "      <th>686</th>\n",
              "      <td>21000.00</td>\n",
              "      <td>3.0</td>\n",
              "      <td>1.0</td>\n",
              "      <td>1.0</td>\n",
              "      <td>140.0</td>\n",
              "      <td>Cuesta Blanca, Tijuana</td>\n",
              "      <td>32.513744</td>\n",
              "      <td>-117.025015</td>\n",
              "      <td>3.089787</td>\n",
              "      <td>8.909674</td>\n",
              "    </tr>\n",
              "    <tr>\n",
              "      <th>689</th>\n",
              "      <td>19000.00</td>\n",
              "      <td>2.0</td>\n",
              "      <td>1.0</td>\n",
              "      <td>1.0</td>\n",
              "      <td>102.0</td>\n",
              "      <td>Villa Fontana , Tijuana</td>\n",
              "      <td>32.508846</td>\n",
              "      <td>-116.868948</td>\n",
              "      <td>15.313288</td>\n",
              "      <td>7.657272</td>\n",
              "    </tr>\n",
              "    <tr>\n",
              "      <th>692</th>\n",
              "      <td>26850.00</td>\n",
              "      <td>2.0</td>\n",
              "      <td>1.0</td>\n",
              "      <td>1.0</td>\n",
              "      <td>78.0</td>\n",
              "      <td>Canadas del Florido, Tijuana</td>\n",
              "      <td>32.464340</td>\n",
              "      <td>-116.857168</td>\n",
              "      <td>18.141594</td>\n",
              "      <td>11.801646</td>\n",
              "    </tr>\n",
              "    <tr>\n",
              "      <th>707</th>\n",
              "      <td>23750.00</td>\n",
              "      <td>2.0</td>\n",
              "      <td>1.0</td>\n",
              "      <td>1.0</td>\n",
              "      <td>85.0</td>\n",
              "      <td>El Refugio, Tijuana</td>\n",
              "      <td>32.457971</td>\n",
              "      <td>-116.827715</td>\n",
              "      <td>20.922881</td>\n",
              "      <td>14.215918</td>\n",
              "    </tr>\n",
              "    <tr>\n",
              "      <th>712</th>\n",
              "      <td>25000.00</td>\n",
              "      <td>2.0</td>\n",
              "      <td>1.0</td>\n",
              "      <td>1.0</td>\n",
              "      <td>41.0</td>\n",
              "      <td>Canadas del Florido, Tijuana</td>\n",
              "      <td>32.464340</td>\n",
              "      <td>-116.857168</td>\n",
              "      <td>18.141594</td>\n",
              "      <td>11.801646</td>\n",
              "    </tr>\n",
              "    <tr>\n",
              "      <th>720</th>\n",
              "      <td>22500.00</td>\n",
              "      <td>2.0</td>\n",
              "      <td>1.0</td>\n",
              "      <td>1.0</td>\n",
              "      <td>120.0</td>\n",
              "      <td>Real de San Antonio, Tijuana</td>\n",
              "      <td>32.439064</td>\n",
              "      <td>-117.044978</td>\n",
              "      <td>11.503274</td>\n",
              "      <td>15.544577</td>\n",
              "    </tr>\n",
              "    <tr>\n",
              "      <th>728</th>\n",
              "      <td>12500.00</td>\n",
              "      <td>1.0</td>\n",
              "      <td>1.0</td>\n",
              "      <td>2.0</td>\n",
              "      <td>125.0</td>\n",
              "      <td>El Jibarito, Tijuana</td>\n",
              "      <td>32.477885</td>\n",
              "      <td>-117.074260</td>\n",
              "      <td>8.314692</td>\n",
              "      <td>14.849333</td>\n",
              "    </tr>\n",
              "    <tr>\n",
              "      <th>784</th>\n",
              "      <td>23000.00</td>\n",
              "      <td>1.0</td>\n",
              "      <td>1.0</td>\n",
              "      <td>1.0</td>\n",
              "      <td>68.0</td>\n",
              "      <td>Lomas del Refugio, Tijuana</td>\n",
              "      <td>32.463219</td>\n",
              "      <td>-116.827715</td>\n",
              "      <td>20.669994</td>\n",
              "      <td>13.821473</td>\n",
              "    </tr>\n",
              "    <tr>\n",
              "      <th>800</th>\n",
              "      <td>11250.00</td>\n",
              "      <td>1.0</td>\n",
              "      <td>1.0</td>\n",
              "      <td>1.0</td>\n",
              "      <td>125.0</td>\n",
              "      <td>El Jibarito, Tijuana</td>\n",
              "      <td>32.477885</td>\n",
              "      <td>-117.074260</td>\n",
              "      <td>8.314692</td>\n",
              "      <td>14.849333</td>\n",
              "    </tr>\n",
              "    <tr>\n",
              "      <th>809</th>\n",
              "      <td>14000.00</td>\n",
              "      <td>1.0</td>\n",
              "      <td>1.0</td>\n",
              "      <td>1.0</td>\n",
              "      <td>68.0</td>\n",
              "      <td>Lomas del Refugio, Tijuana</td>\n",
              "      <td>32.463219</td>\n",
              "      <td>-116.827715</td>\n",
              "      <td>20.669994</td>\n",
              "      <td>13.821473</td>\n",
              "    </tr>\n",
              "    <tr>\n",
              "      <th>813</th>\n",
              "      <td>9250.00</td>\n",
              "      <td>1.0</td>\n",
              "      <td>1.0</td>\n",
              "      <td>1.0</td>\n",
              "      <td>50.0</td>\n",
              "      <td>Los Valles, Tijuana</td>\n",
              "      <td>32.389551</td>\n",
              "      <td>-116.954335</td>\n",
              "      <td>18.239480</td>\n",
              "      <td>17.438154</td>\n",
              "    </tr>\n",
              "    <tr>\n",
              "      <th>817</th>\n",
              "      <td>12500.00</td>\n",
              "      <td>1.0</td>\n",
              "      <td>1.0</td>\n",
              "      <td>2.0</td>\n",
              "      <td>125.0</td>\n",
              "      <td>El Jibarito, Tijuana</td>\n",
              "      <td>32.477885</td>\n",
              "      <td>-117.074260</td>\n",
              "      <td>8.314692</td>\n",
              "      <td>14.849333</td>\n",
              "    </tr>\n",
              "    <tr>\n",
              "      <th>840</th>\n",
              "      <td>27500.00</td>\n",
              "      <td>2.0</td>\n",
              "      <td>1.0</td>\n",
              "      <td>1.0</td>\n",
              "      <td>80.0</td>\n",
              "      <td>Villa Residencial del Bosque, Tijuana</td>\n",
              "      <td>32.512386</td>\n",
              "      <td>-116.830660</td>\n",
              "      <td>18.748984</td>\n",
              "      <td>10.718605</td>\n",
              "    </tr>\n",
              "    <tr>\n",
              "      <th>844</th>\n",
              "      <td>13000.00</td>\n",
              "      <td>1.0</td>\n",
              "      <td>1.0</td>\n",
              "      <td>2.0</td>\n",
              "      <td>125.0</td>\n",
              "      <td>El Jibarito, Tijuana</td>\n",
              "      <td>32.477885</td>\n",
              "      <td>-117.074260</td>\n",
              "      <td>8.314692</td>\n",
              "      <td>14.849333</td>\n",
              "    </tr>\n",
              "    <tr>\n",
              "      <th>846</th>\n",
              "      <td>21000.00</td>\n",
              "      <td>3.0</td>\n",
              "      <td>1.0</td>\n",
              "      <td>1.0</td>\n",
              "      <td>140.0</td>\n",
              "      <td>Cuesta Blanca, Tijuana</td>\n",
              "      <td>32.513744</td>\n",
              "      <td>-117.025015</td>\n",
              "      <td>3.089787</td>\n",
              "      <td>8.909674</td>\n",
              "    </tr>\n",
              "    <tr>\n",
              "      <th>851</th>\n",
              "      <td>12000.00</td>\n",
              "      <td>1.0</td>\n",
              "      <td>1.0</td>\n",
              "      <td>2.0</td>\n",
              "      <td>40.0</td>\n",
              "      <td>El Jibarito, Tijuana</td>\n",
              "      <td>32.477885</td>\n",
              "      <td>-117.074260</td>\n",
              "      <td>8.314692</td>\n",
              "      <td>14.849333</td>\n",
              "    </tr>\n",
              "  </tbody>\n",
              "</table>\n",
              "</div>\n",
              "      <button class=\"colab-df-convert\" onclick=\"convertToInteractive('df-6356fecf-ec39-4841-8fd5-690669b6bf98')\"\n",
              "              title=\"Convert this dataframe to an interactive table.\"\n",
              "              style=\"display:none;\">\n",
              "        \n",
              "  <svg xmlns=\"http://www.w3.org/2000/svg\" height=\"24px\"viewBox=\"0 0 24 24\"\n",
              "       width=\"24px\">\n",
              "    <path d=\"M0 0h24v24H0V0z\" fill=\"none\"/>\n",
              "    <path d=\"M18.56 5.44l.94 2.06.94-2.06 2.06-.94-2.06-.94-.94-2.06-.94 2.06-2.06.94zm-11 1L8.5 8.5l.94-2.06 2.06-.94-2.06-.94L8.5 2.5l-.94 2.06-2.06.94zm10 10l.94 2.06.94-2.06 2.06-.94-2.06-.94-.94-2.06-.94 2.06-2.06.94z\"/><path d=\"M17.41 7.96l-1.37-1.37c-.4-.4-.92-.59-1.43-.59-.52 0-1.04.2-1.43.59L10.3 9.45l-7.72 7.72c-.78.78-.78 2.05 0 2.83L4 21.41c.39.39.9.59 1.41.59.51 0 1.02-.2 1.41-.59l7.78-7.78 2.81-2.81c.8-.78.8-2.07 0-2.86zM5.41 20L4 18.59l7.72-7.72 1.47 1.35L5.41 20z\"/>\n",
              "  </svg>\n",
              "      </button>\n",
              "      \n",
              "  <style>\n",
              "    .colab-df-container {\n",
              "      display:flex;\n",
              "      flex-wrap:wrap;\n",
              "      gap: 12px;\n",
              "    }\n",
              "\n",
              "    .colab-df-convert {\n",
              "      background-color: #E8F0FE;\n",
              "      border: none;\n",
              "      border-radius: 50%;\n",
              "      cursor: pointer;\n",
              "      display: none;\n",
              "      fill: #1967D2;\n",
              "      height: 32px;\n",
              "      padding: 0 0 0 0;\n",
              "      width: 32px;\n",
              "    }\n",
              "\n",
              "    .colab-df-convert:hover {\n",
              "      background-color: #E2EBFA;\n",
              "      box-shadow: 0px 1px 2px rgba(60, 64, 67, 0.3), 0px 1px 3px 1px rgba(60, 64, 67, 0.15);\n",
              "      fill: #174EA6;\n",
              "    }\n",
              "\n",
              "    [theme=dark] .colab-df-convert {\n",
              "      background-color: #3B4455;\n",
              "      fill: #D2E3FC;\n",
              "    }\n",
              "\n",
              "    [theme=dark] .colab-df-convert:hover {\n",
              "      background-color: #434B5C;\n",
              "      box-shadow: 0px 1px 3px 1px rgba(0, 0, 0, 0.15);\n",
              "      filter: drop-shadow(0px 1px 2px rgba(0, 0, 0, 0.3));\n",
              "      fill: #FFFFFF;\n",
              "    }\n",
              "  </style>\n",
              "\n",
              "      <script>\n",
              "        const buttonEl =\n",
              "          document.querySelector('#df-6356fecf-ec39-4841-8fd5-690669b6bf98 button.colab-df-convert');\n",
              "        buttonEl.style.display =\n",
              "          google.colab.kernel.accessAllowed ? 'block' : 'none';\n",
              "\n",
              "        async function convertToInteractive(key) {\n",
              "          const element = document.querySelector('#df-6356fecf-ec39-4841-8fd5-690669b6bf98');\n",
              "          const dataTable =\n",
              "            await google.colab.kernel.invokeFunction('convertToInteractive',\n",
              "                                                     [key], {});\n",
              "          if (!dataTable) return;\n",
              "\n",
              "          const docLinkHtml = 'Like what you see? Visit the ' +\n",
              "            '<a target=\"_blank\" href=https://colab.research.google.com/notebooks/data_table.ipynb>data table notebook</a>'\n",
              "            + ' to learn more about interactive tables.';\n",
              "          element.innerHTML = '';\n",
              "          dataTable['output_type'] = 'display_data';\n",
              "          await google.colab.output.renderOutput(dataTable, element);\n",
              "          const docLink = document.createElement('div');\n",
              "          docLink.innerHTML = docLinkHtml;\n",
              "          element.appendChild(docLink);\n",
              "        }\n",
              "      </script>\n",
              "    </div>\n",
              "  </div>\n",
              "  "
            ]
          },
          "metadata": {},
          "execution_count": 29
        }
      ]
    },
    {
      "cell_type": "code",
      "source": [
        "df2 = df[(df.price < max_threshold) & (df.price > min_threshold)]\n",
        "df2.shape"
      ],
      "metadata": {
        "colab": {
          "base_uri": "https://localhost:8080/"
        },
        "id": "NT9scOygpWnz",
        "outputId": "b0660eac-84d7-4758-e063-fa5f99895378"
      },
      "execution_count": null,
      "outputs": [
        {
          "output_type": "execute_result",
          "data": {
            "text/plain": [
              "(517, 10)"
            ]
          },
          "metadata": {},
          "execution_count": 30
        }
      ]
    },
    {
      "cell_type": "code",
      "source": [
        "df2.columns"
      ],
      "metadata": {
        "colab": {
          "base_uri": "https://localhost:8080/"
        },
        "id": "9lE0b_793SSB",
        "outputId": "7c23a650-086f-4eba-c044-9c959acbfc07"
      },
      "execution_count": null,
      "outputs": [
        {
          "output_type": "execute_result",
          "data": {
            "text/plain": [
              "Index(['price', 'bedrooms', 'bathrooms', 'parkingSpots', 'propertySize',\n",
              "       'neighborhood', 'lat', 'lon', 'distance_SY (km)', 'distance_OT (km)'],\n",
              "      dtype='object')"
            ]
          },
          "metadata": {},
          "execution_count": 31
        }
      ]
    },
    {
      "cell_type": "code",
      "source": [
        "x = df2[['bedrooms', 'bathrooms', 'parkingSpots', 'propertySize',\n",
        "         'distance_SY (km)', 'distance_OT (km)']]\n",
        "y = df2[['price']]"
      ],
      "metadata": {
        "id": "_d6xt7Cl4CGm"
      },
      "execution_count": null,
      "outputs": []
    },
    {
      "cell_type": "code",
      "source": [
        "from sklearn.model_selection import train_test_split\n",
        "x_train, x_test, y_train, y_test = train_test_split(x, y, test_size = 0.2, random_state = 0)"
      ],
      "metadata": {
        "id": "WqZbscjs4a53"
      },
      "execution_count": null,
      "outputs": []
    },
    {
      "cell_type": "code",
      "source": [
        "from sklearn.preprocessing import StandardScaler\n",
        "sc = StandardScaler()\n",
        "x_train = sc.fit_transform(x_train)\n",
        "x_test = sc.transform(x_test)"
      ],
      "metadata": {
        "id": "psqmvotw4fE6"
      },
      "execution_count": null,
      "outputs": []
    },
    {
      "cell_type": "code",
      "source": [
        "\n",
        "\n",
        "from sklearn import metrics\n",
        "from sklearn import linear_model\n",
        "from sklearn.linear_model import LinearRegression\n",
        "from sklearn.model_selection import cross_val_score\n",
        "\n",
        "ols = linear_model.LinearRegression()\n",
        "ols.fit(x_train,y_train)\n",
        "np.mean(cross_val_score(ols, x_train, y_train, cv = 5, scoring = \"r2\"))   "
      ],
      "metadata": {
        "colab": {
          "base_uri": "https://localhost:8080/"
        },
        "id": "3WKM35Wk4iZ-",
        "outputId": "b276377d-b597-44e4-8bf0-3534629c9acd"
      },
      "execution_count": null,
      "outputs": [
        {
          "output_type": "execute_result",
          "data": {
            "text/plain": [
              "0.21430721509326167"
            ]
          },
          "metadata": {},
          "execution_count": 35
        }
      ]
    },
    {
      "cell_type": "code",
      "source": [
        "\n",
        "\n",
        "model = linear_model.Lasso()\n",
        "print(\"Lasso regression score: \", np.round(np.mean(cross_val_score(model, x_train, y_train, cv = 5, scoring = \"r2\")), 5))"
      ],
      "metadata": {
        "colab": {
          "base_uri": "https://localhost:8080/"
        },
        "id": "RlNrA8004wcd",
        "outputId": "cb057db0-a841-45a9-90b7-fabe6acf7ef4"
      },
      "execution_count": null,
      "outputs": [
        {
          "output_type": "stream",
          "name": "stdout",
          "text": [
            "Lasso regression score:  0.21432\n"
          ]
        }
      ]
    },
    {
      "cell_type": "code",
      "source": [
        "from sklearn.model_selection import GridSearchCV\n",
        "\n",
        "alphas = [0.01, 0.1,0.5,0.75,1]\n",
        "model = linear_model.Lasso()\n",
        "grid_lasso = GridSearchCV(estimator=model, param_grid=dict(alpha=alphas), cv=5)\n",
        "grid_lasso.fit(x_train, y_train)\n",
        "print(\"Lasso regression best alpha value: \", grid_lasso.best_estimator_.alpha)\n",
        "print(\"Lasso regression with hyperparameter tuning best score: \", np.round(grid_lasso.best_score_, 5))\n",
        "print(\"Lasso regression improvement after hyperparameter tuning: {0}%\".format(np.round((1 - ((np.round(np.mean(cross_val_score(model, x_train, y_train, cv = 5, scoring = \"r2\")), 5)) \n",
        "                                                                                             / np.round(grid_lasso.best_score_, 5))) * 100, 5)))\n",
        "\n"
      ],
      "metadata": {
        "colab": {
          "base_uri": "https://localhost:8080/"
        },
        "id": "_YLKljMV4-Dq",
        "outputId": "95bafeb5-bf26-4a3a-daf2-4ab91caf8b50"
      },
      "execution_count": null,
      "outputs": [
        {
          "output_type": "stream",
          "name": "stdout",
          "text": [
            "Lasso regression best alpha value:  1\n",
            "Lasso regression with hyperparameter tuning best score:  0.21432\n",
            "Lasso regression improvement after hyperparameter tuning: 0.0%\n"
          ]
        }
      ]
    },
    {
      "cell_type": "code",
      "source": [
        "model = linear_model.Ridge()\n",
        "print(\"Ridge regression score: \", np.round(np.mean(cross_val_score(model, x_train, y_train, cv = 5, scoring = \"r2\")), 5))      \n",
        "      "
      ],
      "metadata": {
        "colab": {
          "base_uri": "https://localhost:8080/"
        },
        "id": "MrjdTi7_5QS_",
        "outputId": "33a8bcc0-4790-4f9d-fe9b-57d267c86259"
      },
      "execution_count": null,
      "outputs": [
        {
          "output_type": "stream",
          "name": "stdout",
          "text": [
            "Ridge regression score:  0.21612\n"
          ]
        }
      ]
    },
    {
      "cell_type": "code",
      "source": [
        "alphas = [int(x) for x in np.linspace(1, 10, num = 20)]\n",
        "model = linear_model.Ridge()\n",
        "grid_ridge = GridSearchCV(estimator=model, param_grid=dict(alpha=alphas))\n",
        "grid_ridge.fit(x_train, y_train)\n",
        "print(\"Ridge regression best alpha value: \", grid_ridge.best_estimator_.alpha)\n",
        "print(\"Ridge regression with hyperparameter tuning best score: \", np.round(grid_ridge.best_score_, 5))\n",
        "print(\"Ridge regression improvement after hyperparameter tuning: {0}%\".format(np.round((1 - ((np.round(np.mean(cross_val_score(model, x_train, y_train, cv = 5, scoring = \"r2\")), 5)) \n",
        "                                                                                             / np.round(grid_ridge.best_score_, 5))) * 100, 5)))"
      ],
      "metadata": {
        "colab": {
          "base_uri": "https://localhost:8080/"
        },
        "id": "mLhr4rO85buh",
        "outputId": "33f67912-69f8-4e02-b953-6b489bdcf5ea"
      },
      "execution_count": null,
      "outputs": [
        {
          "output_type": "stream",
          "name": "stdout",
          "text": [
            "Ridge regression best alpha value:  10\n",
            "Ridge regression with hyperparameter tuning best score:  0.22998\n",
            "Ridge regression improvement after hyperparameter tuning: 6.02661%\n"
          ]
        }
      ]
    },
    {
      "cell_type": "code",
      "source": [
        "model = linear_model.ElasticNet()\n",
        "print(\"Elastic Net regression score: \", np.round(np.mean(cross_val_score(model, x_train, y_train, cv = 5, scoring = \"r2\")), 5))"
      ],
      "metadata": {
        "colab": {
          "base_uri": "https://localhost:8080/"
        },
        "id": "gKtmwgq65gLw",
        "outputId": "524741c1-8d6d-42d7-e66e-c01f5d980cf1"
      },
      "execution_count": null,
      "outputs": [
        {
          "output_type": "stream",
          "name": "stdout",
          "text": [
            "Elastic Net regression score:  0.28797\n"
          ]
        }
      ]
    },
    {
      "cell_type": "code",
      "source": [
        "alphas = np.array([0.01, 0.02, 0.025, 0.05,0.1,0.5,1])\n",
        "model = linear_model.ElasticNet()\n",
        "grid_elastic = GridSearchCV(estimator=model, param_grid=dict(alpha=alphas))\n",
        "grid_elastic.fit(x_train, y_train)\n",
        "\n",
        "print(\"Elastic Net regression best alpha value: \", grid_elastic.best_estimator_.alpha)\n",
        "print(\"Elastic Net regression with hyperparameter tuning best score: \", np.round(grid_elastic.best_score_, 5))\n",
        "print(\"Elastic Net regression improvement after hyperparameter tuning: {0}%\".format(np.round((1 - ((np.round(np.mean(cross_val_score(model, x_train, y_train, cv = 5, scoring = \"r2\")), 5)) \n",
        "                                                                                             / np.round(grid_elastic.best_score_, 5))) * 100, 5)))"
      ],
      "metadata": {
        "colab": {
          "base_uri": "https://localhost:8080/"
        },
        "id": "JCTIo0IC5krA",
        "outputId": "6313d7f5-e987-4ae1-c2d8-f0da1977b96c"
      },
      "execution_count": null,
      "outputs": [
        {
          "output_type": "stream",
          "name": "stdout",
          "text": [
            "Elastic Net regression best alpha value:  1.0\n",
            "Elastic Net regression with hyperparameter tuning best score:  0.28797\n",
            "Elastic Net regression improvement after hyperparameter tuning: 0.0%\n"
          ]
        }
      ]
    },
    {
      "cell_type": "code",
      "source": [
        "from sklearn.ensemble import RandomForestRegressor\n",
        "rf_Model = RandomForestRegressor()\n",
        "print(\"Random Forest regression score: \", np.round(np.mean(cross_val_score(rf_Model, x_train, y_train.values.ravel(), cv = 5, scoring = \"r2\")), 5))      \n"
      ],
      "metadata": {
        "colab": {
          "base_uri": "https://localhost:8080/"
        },
        "id": "rSLps9F45tQB",
        "outputId": "c84136b3-0c4b-4d57-b95e-d543b3bc7fc4"
      },
      "execution_count": null,
      "outputs": [
        {
          "output_type": "stream",
          "name": "stdout",
          "text": [
            "Random Forest regression score:  0.70045\n"
          ]
        }
      ]
    },
    {
      "cell_type": "code",
      "source": [
        "param_grid = {'n_estimators': [int(x) for x in np.linspace(25, 75, num = 3)],\n",
        "               'max_features': ['auto', 'sqrt'],\n",
        "               'max_depth': [2, 4, 8],\n",
        "               'min_samples_split': [2, 5,10],\n",
        "               'min_samples_leaf': [1, 2, 4],\n",
        "               'bootstrap': [True, False]}\n",
        "print(param_grid)"
      ],
      "metadata": {
        "colab": {
          "base_uri": "https://localhost:8080/"
        },
        "id": "aXLjjmFB5yPh",
        "outputId": "ef096c30-7fb2-4169-a7e7-cba5ffa5890b"
      },
      "execution_count": null,
      "outputs": [
        {
          "output_type": "stream",
          "name": "stdout",
          "text": [
            "{'n_estimators': [25, 50, 75], 'max_features': ['auto', 'sqrt'], 'max_depth': [2, 4, 8], 'min_samples_split': [2, 5, 10], 'min_samples_leaf': [1, 2, 4], 'bootstrap': [True, False]}\n"
          ]
        }
      ]
    },
    {
      "cell_type": "code",
      "source": [
        "from sklearn.ensemble import RandomForestRegressor\n",
        "rf_Model = RandomForestRegressor()\n",
        "rf_Grid = GridSearchCV(estimator = rf_Model, param_grid = param_grid, cv = 5, verbose=2, n_jobs = 4)\n",
        "rf_Grid.fit(x_train, y_train.values.ravel())\n",
        "print(rf_Grid.best_params_)\n",
        "print(\"Random Forest regression with hyperparameter tuning best score: \", np.round(rf_Grid.best_score_, 5))\n",
        "print(\"Random Forest regression improvement after hyperparameter tuning: {0}%\".format(np.round((1 - ((np.round(np.mean(cross_val_score(rf_Model, x_train, y_train.values.ravel(), cv = 5, scoring = \"r2\")), 5)) \n",
        "                                                                                             / np.round(rf_Grid.best_score_, 5))) * 100, 5)))"
      ],
      "metadata": {
        "colab": {
          "base_uri": "https://localhost:8080/"
        },
        "id": "FnhqMRX052aw",
        "outputId": "e7ac3a1b-b8d3-414f-f89b-d2986b8001fe"
      },
      "execution_count": null,
      "outputs": [
        {
          "output_type": "stream",
          "name": "stdout",
          "text": [
            "Fitting 5 folds for each of 324 candidates, totalling 1620 fits\n",
            "{'bootstrap': False, 'max_depth': 8, 'max_features': 'sqrt', 'min_samples_leaf': 1, 'min_samples_split': 2, 'n_estimators': 25}\n",
            "Random Forest regression with hyperparameter tuning best score:  0.72458\n",
            "Random Forest regression improvement after hyperparameter tuning: 3.7815%\n"
          ]
        }
      ]
    },
    {
      "cell_type": "code",
      "source": [
        "from sklearn.ensemble import GradientBoostingRegressor\n",
        "gbr = GradientBoostingRegressor()\n",
        "print(\"Gradient Booster regression score: \", np.round(np.mean(cross_val_score(gbr, x_train, y_train.values.ravel(), cv = 5, scoring = \"r2\")), 5))      \n"
      ],
      "metadata": {
        "colab": {
          "base_uri": "https://localhost:8080/"
        },
        "id": "Qz333hzfs16R",
        "outputId": "7ffeed53-a4b1-4823-9106-fccff9e71e5a"
      },
      "execution_count": null,
      "outputs": [
        {
          "output_type": "stream",
          "name": "stdout",
          "text": [
            "Gradient Booster regression score:  0.68416\n"
          ]
        }
      ]
    },
    {
      "cell_type": "code",
      "source": [
        "param_grid = {'n_estimators': [400, 500, 600],\n",
        "               'learning_rate': [0.005, 0.01, 0.02],\n",
        "               'max_depth': [1, 2, 4, 8],\n",
        "               'subsample': [0.6, 0.8, 1]}\n",
        "print(param_grid)"
      ],
      "metadata": {
        "colab": {
          "base_uri": "https://localhost:8080/"
        },
        "id": "UDbqKf6MtbKu",
        "outputId": "aa2609dc-af1f-4585-fc96-4095c268c434"
      },
      "execution_count": null,
      "outputs": [
        {
          "output_type": "stream",
          "name": "stdout",
          "text": [
            "{'n_estimators': [400, 500, 600], 'learning_rate': [0.005, 0.01, 0.02], 'max_depth': [1, 2, 4, 8], 'subsample': [0.6, 0.8, 1]}\n"
          ]
        }
      ]
    },
    {
      "cell_type": "code",
      "source": [
        "model = GradientBoostingRegressor()\n",
        "grid_gbr = GridSearchCV(estimator = model, param_grid = param_grid, cv = 5, verbose=2, n_jobs = 4)\n",
        "grid_gbr.fit(x_train, y_train.values.ravel())\n",
        "print(grid_gbr.best_params_)\n",
        "print(\"Gradient Booster regression with hyperparameter tuning best score: \", np.round(grid_gbr.best_score_, 5))\n",
        "print(\"Gradient Booster regression improvement after hyperparameter tuning: {0}%\".format(np.round((1 - ((np.round(np.mean(cross_val_score(gbr, x_train, y_train.values.ravel(), cv = 5, scoring = \"r2\")), 5)) \n",
        "                                                                                             / np.round(grid_gbr.best_score_, 5))) * 100, 5)))"
      ],
      "metadata": {
        "colab": {
          "base_uri": "https://localhost:8080/"
        },
        "id": "oSDlzLBeteqB",
        "outputId": "7f16eb27-00df-4d35-f34e-8a37370e985a"
      },
      "execution_count": null,
      "outputs": [
        {
          "output_type": "stream",
          "name": "stdout",
          "text": [
            "Fitting 5 folds for each of 108 candidates, totalling 540 fits\n",
            "{'learning_rate': 0.01, 'max_depth': 8, 'n_estimators': 400, 'subsample': 0.6}\n",
            "Gradient Booster regression with hyperparameter tuning best score:  0.71857\n",
            "Gradient Booster regression improvement after hyperparameter tuning: 4.09285%\n"
          ]
        }
      ]
    },
    {
      "cell_type": "code",
      "source": [
        "import xgboost\n",
        "xgb = xgboost.XGBRegressor()\n",
        "np.mean(cross_val_score(xgb, x_train, y_train, cv = 5, scoring = \"r2\"))   "
      ],
      "metadata": {
        "colab": {
          "base_uri": "https://localhost:8080/"
        },
        "id": "RMORpgfz6gNw",
        "outputId": "3e6828f9-cf1d-439d-99c2-4c752ba4c41f"
      },
      "execution_count": null,
      "outputs": [
        {
          "output_type": "stream",
          "name": "stdout",
          "text": [
            "[03:58:03] WARNING: /workspace/src/objective/regression_obj.cu:152: reg:linear is now deprecated in favor of reg:squarederror.\n",
            "[03:58:03] WARNING: /workspace/src/objective/regression_obj.cu:152: reg:linear is now deprecated in favor of reg:squarederror.\n",
            "[03:58:03] WARNING: /workspace/src/objective/regression_obj.cu:152: reg:linear is now deprecated in favor of reg:squarederror.\n",
            "[03:58:03] WARNING: /workspace/src/objective/regression_obj.cu:152: reg:linear is now deprecated in favor of reg:squarederror.\n",
            "[03:58:03] WARNING: /workspace/src/objective/regression_obj.cu:152: reg:linear is now deprecated in favor of reg:squarederror.\n"
          ]
        },
        {
          "output_type": "execute_result",
          "data": {
            "text/plain": [
              "0.6822648233550022"
            ]
          },
          "metadata": {},
          "execution_count": 48
        }
      ]
    },
    {
      "cell_type": "code",
      "source": [
        "param_grid = {'n_estimators': [int(x) for x in np.linspace(250, 500, num = 5)],\n",
        "               'learning_rate': [0.01, 0.02, 0.03],\n",
        "               'max_depth': [2, 4, 8],\n",
        "               'colsample_bytree': [0.5,0.75, 1],\n",
        "               'subsample': [0.6,0.8, 1]}\n",
        "print(param_grid)"
      ],
      "metadata": {
        "colab": {
          "base_uri": "https://localhost:8080/"
        },
        "id": "6hkPCZ626mrC",
        "outputId": "482cb7c9-44b0-4862-ec96-0d2dd39b2274"
      },
      "execution_count": null,
      "outputs": [
        {
          "output_type": "stream",
          "name": "stdout",
          "text": [
            "{'n_estimators': [250, 312, 375, 437, 500], 'learning_rate': [0.01, 0.02, 0.03], 'max_depth': [2, 4, 8], 'colsample_bytree': [0.5, 0.75, 1], 'subsample': [0.6, 0.8, 1]}\n"
          ]
        }
      ]
    },
    {
      "cell_type": "code",
      "source": [
        "model = xgboost.XGBRegressor()\n",
        "grid_xgb = GridSearchCV(estimator = model, param_grid = param_grid, cv = 5, verbose=2, n_jobs = 4)\n",
        "grid_xgb.fit(x_train, y_train)\n",
        "print(grid_xgb.best_params_)\n",
        "print(\"XGBoost regression with hyperparameter tuning best score: \", np.round(grid_xgb.best_score_, 5))\n",
        "print(\"XGBoost Forest regression improvement after hyperparameter tuning: {0}%\".format(np.round((1 - ((np.round(np.mean(cross_val_score(xgb, x_train, y_train, cv = 5, scoring = \"r2\")), 5)) \n",
        "                                                                                             / np.round(grid_xgb.best_score_, 5))) * 100, 5)))"
      ],
      "metadata": {
        "colab": {
          "base_uri": "https://localhost:8080/"
        },
        "id": "Jix6xsp36qyM",
        "outputId": "2bd8e3a7-2236-4591-bf1d-4fc606843da3"
      },
      "execution_count": null,
      "outputs": [
        {
          "output_type": "stream",
          "name": "stdout",
          "text": [
            "Fitting 5 folds for each of 405 candidates, totalling 2025 fits\n",
            "[04:01:06] WARNING: /workspace/src/objective/regression_obj.cu:152: reg:linear is now deprecated in favor of reg:squarederror.\n",
            "{'colsample_bytree': 0.5, 'learning_rate': 0.02, 'max_depth': 8, 'n_estimators': 312, 'subsample': 0.8}\n",
            "XGBoost regression with hyperparameter tuning best score:  0.7386\n",
            "[04:01:07] WARNING: /workspace/src/objective/regression_obj.cu:152: reg:linear is now deprecated in favor of reg:squarederror.\n",
            "[04:01:07] WARNING: /workspace/src/objective/regression_obj.cu:152: reg:linear is now deprecated in favor of reg:squarederror.\n",
            "[04:01:07] WARNING: /workspace/src/objective/regression_obj.cu:152: reg:linear is now deprecated in favor of reg:squarederror.\n",
            "[04:01:07] WARNING: /workspace/src/objective/regression_obj.cu:152: reg:linear is now deprecated in favor of reg:squarederror.\n",
            "[04:01:07] WARNING: /workspace/src/objective/regression_obj.cu:152: reg:linear is now deprecated in favor of reg:squarederror.\n",
            "XGBoost Forest regression improvement after hyperparameter tuning: 7.62794%\n"
          ]
        }
      ]
    },
    {
      "cell_type": "code",
      "source": [
        "from sklearn.preprocessing import PolynomialFeatures\n",
        "def create_polynomial_regression_model(degree):\n",
        "    poly_features = PolynomialFeatures(degree=degree)\n",
        "    X_poly = poly_features.fit_transform(x_train)\n",
        "    poly = LinearRegression()\n",
        "    return np.mean(cross_val_score(poly, X_poly, y_train, cv=5, scoring = \"r2\"))\n",
        "cv_scores=[]\n",
        "degrees =[2,3,4, 5]\n",
        "for degree in degrees:\n",
        "    cv_scores.append(create_polynomial_regression_model(degree))\n",
        "    \n",
        "print(max(cv_scores))\n",
        "    "
      ],
      "metadata": {
        "colab": {
          "base_uri": "https://localhost:8080/"
        },
        "id": "qFCbLJSp72By",
        "outputId": "c297dc68-c338-4704-874d-11dcce76d58a"
      },
      "execution_count": null,
      "outputs": [
        {
          "output_type": "stream",
          "name": "stdout",
          "text": [
            "-199.4267363491744\n"
          ]
        }
      ]
    },
    {
      "cell_type": "code",
      "source": [
        "fig,ax=plt.subplots(figsize=(6,6))\n",
        "ax.plot(degrees,cv_scores)\n",
        "ax.set_xlabel('Degree',fontsize=20)\n",
        "ax.set_ylabel('R2',fontsize=20)\n",
        "ax.set_title('R2 VS Degree',fontsize=25)"
      ],
      "metadata": {
        "colab": {
          "base_uri": "https://localhost:8080/",
          "height": 439
        },
        "id": "b2044VDG8Bc2",
        "outputId": "b2249b46-59b2-4bdf-abe7-2f9ebc0f33cc"
      },
      "execution_count": null,
      "outputs": [
        {
          "output_type": "execute_result",
          "data": {
            "text/plain": [
              "Text(0.5, 1.0, 'R2 VS Degree')"
            ]
          },
          "metadata": {},
          "execution_count": 52
        },
        {
          "output_type": "display_data",
          "data": {
            "text/plain": [
              "<Figure size 432x432 with 1 Axes>"
            ],
            "image/png": "[encoded data removed]"
          },
          "metadata": {
            "needs_background": "light"
          }
        }
      ]
    },
    {
      "cell_type": "code",
      "source": [
        "poly_features = PolynomialFeatures(degree=2)\n",
        "X_poly = poly_features.fit_transform(x_train)\n",
        "poly = LinearRegression()\n",
        "poly.fit(x_train, y_train)\n"
      ],
      "metadata": {
        "colab": {
          "base_uri": "https://localhost:8080/"
        },
        "id": "ONk5f0rk8Pjh",
        "outputId": "cfd1feb2-0af6-48ef-facb-0185a8e0a15a"
      },
      "execution_count": null,
      "outputs": [
        {
          "output_type": "execute_result",
          "data": {
            "text/plain": [
              "LinearRegression()"
            ]
          },
          "metadata": {},
          "execution_count": 53
        }
      ]
    },
    {
      "cell_type": "code",
      "source": [
        "ols_yhat = ols.predict(x_test)\n",
        "lasso_yhat  = grid_lasso.best_estimator_.predict(x_test)\n",
        "ridge_yhat = grid_ridge.best_estimator_.predict(x_test)\n",
        "elastic_yhat = grid_elastic.best_estimator_.predict(x_test)\n",
        "forest_yhat = rf_Grid.best_estimator_.predict(x_test)\n",
        "gbr_yhat = grid_gbr.predict(x_test)\n",
        "xgb_yhat = grid_xgb.predict(x_test)\n",
        "poly_yhat = poly.predict(x_test)"
      ],
      "metadata": {
        "id": "KJ3Jz-I7-NfT"
      },
      "execution_count": null,
      "outputs": []
    },
    {
      "cell_type": "code",
      "source": [
        "from sklearn.metrics import r2_score\n",
        "from sklearn.metrics import mean_squared_error\n",
        "\n",
        "print(\"Ordinary Least Square accuracy: %.2f\" % r2_score(y_test, ols_yhat) )\n",
        "print(\"Lasso regression accuracy: %.2f\" % r2_score(y_test, lasso_yhat) )\n",
        "print(\"Ridge regression accuracy: %.2f\" % r2_score(y_test, ridge_yhat) )\n",
        "print(\"Elastic net regression accuracy: %.2f\" % r2_score(y_test, elastic_yhat) )\n",
        "print(\"Random forest regression accuracy: %.2f\" % r2_score(y_test, forest_yhat) )\n",
        "print(\"Gradient Booster regression accuracy: %.2f\" % r2_score(y_test, gbr_yhat) )\n",
        "print(\"XGBoost regression accuracy: %.2f\" % r2_score(y_test, xgb_yhat) )\n",
        "print(\"Polynomial regression accuracy: %.2f\" % r2_score(y_test, poly_yhat) )"
      ],
      "metadata": {
        "colab": {
          "base_uri": "https://localhost:8080/"
        },
        "id": "j8zPoem6-4rK",
        "outputId": "3c337f01-9b55-4e87-9622-6ebd938a1470"
      },
      "execution_count": null,
      "outputs": [
        {
          "output_type": "stream",
          "name": "stdout",
          "text": [
            "Ordinary Least Square accuracy: 0.37\n",
            "Lasso regression accuracy: 0.37\n",
            "Ridge regression accuracy: 0.37\n",
            "Elastic net regression accuracy: 0.33\n",
            "Random forest regression accuracy: 0.73\n",
            "Gradient Booster regression accuracy: 0.77\n",
            "XGBoost regression accuracy: 0.78\n",
            "Polynomial regression accuracy: 0.37\n"
          ]
        }
      ]
    },
    {
      "cell_type": "code",
      "source": [
        "xgb_ytest =  y_test.reset_index(drop=True)\n",
        "xgb_ypred = pd.DataFrame(xgb_yhat)\n",
        "dfs = [xgb_ytest, xgb_ypred ]\n",
        "xgb_df = pd.concat(dfs, axis = 1)\n",
        "xgb_df.rename(columns = {0:'predictions'}, inplace = True)\n",
        "xgb_df"
      ],
      "metadata": {
        "colab": {
          "base_uri": "https://localhost:8080/",
          "height": 424
        },
        "id": "3ecx_oY4_XlH",
        "outputId": "4c77ed48-d46e-4f14-bcdc-aab838584c07"
      },
      "execution_count": null,
      "outputs": [
        {
          "output_type": "execute_result",
          "data": {
            "text/plain": [
              "         price    predictions\n",
              "0     52342.55   68887.992188\n",
              "1     39500.00   47437.121094\n",
              "2    105000.00  101255.242188\n",
              "3     87955.00  192858.015625\n",
              "4    295000.00  263226.312500\n",
              "..         ...            ...\n",
              "99   137600.00  192614.500000\n",
              "100  210000.00  207572.500000\n",
              "101   60000.00   63406.292969\n",
              "102  270000.00  240276.968750\n",
              "103   67000.00   62799.082031\n",
              "\n",
              "[104 rows x 2 columns]"
            ],
            "text/html": [
              "\n",
              "  <div id=\"df-718887fe-0fe0-443c-9cf5-d2196c5d17b3\">\n",
              "    <div class=\"colab-df-container\">\n",
              "      <div>\n",
              "<style scoped>\n",
              "    .dataframe tbody tr th:only-of-type {\n",
              "        vertical-align: middle;\n",
              "    }\n",
              "\n",
              "    .dataframe tbody tr th {\n",
              "        vertical-align: top;\n",
              "    }\n",
              "\n",
              "    .dataframe thead th {\n",
              "        text-align: right;\n",
              "    }\n",
              "</style>\n",
              "<table border=\"1\" class=\"dataframe\">\n",
              "  <thead>\n",
              "    <tr style=\"text-align: right;\">\n",
              "      <th></th>\n",
              "      <th>price</th>\n",
              "      <th>predictions</th>\n",
              "    </tr>\n",
              "  </thead>\n",
              "  <tbody>\n",
              "    <tr>\n",
              "      <th>0</th>\n",
              "      <td>52342.55</td>\n",
              "      <td>68887.992188</td>\n",
              "    </tr>\n",
              "    <tr>\n",
              "      <th>1</th>\n",
              "      <td>39500.00</td>\n",
              "      <td>47437.121094</td>\n",
              "    </tr>\n",
              "    <tr>\n",
              "      <th>2</th>\n",
              "      <td>105000.00</td>\n",
              "      <td>101255.242188</td>\n",
              "    </tr>\n",
              "    <tr>\n",
              "      <th>3</th>\n",
              "      <td>87955.00</td>\n",
              "      <td>192858.015625</td>\n",
              "    </tr>\n",
              "    <tr>\n",
              "      <th>4</th>\n",
              "      <td>295000.00</td>\n",
              "      <td>263226.312500</td>\n",
              "    </tr>\n",
              "    <tr>\n",
              "      <th>...</th>\n",
              "      <td>...</td>\n",
              "      <td>...</td>\n",
              "    </tr>\n",
              "    <tr>\n",
              "      <th>99</th>\n",
              "      <td>137600.00</td>\n",
              "      <td>192614.500000</td>\n",
              "    </tr>\n",
              "    <tr>\n",
              "      <th>100</th>\n",
              "      <td>210000.00</td>\n",
              "      <td>207572.500000</td>\n",
              "    </tr>\n",
              "    <tr>\n",
              "      <th>101</th>\n",
              "      <td>60000.00</td>\n",
              "      <td>63406.292969</td>\n",
              "    </tr>\n",
              "    <tr>\n",
              "      <th>102</th>\n",
              "      <td>270000.00</td>\n",
              "      <td>240276.968750</td>\n",
              "    </tr>\n",
              "    <tr>\n",
              "      <th>103</th>\n",
              "      <td>67000.00</td>\n",
              "      <td>62799.082031</td>\n",
              "    </tr>\n",
              "  </tbody>\n",
              "</table>\n",
              "<p>104 rows × 2 columns</p>\n",
              "</div>\n",
              "      <button class=\"colab-df-convert\" onclick=\"convertToInteractive('df-718887fe-0fe0-443c-9cf5-d2196c5d17b3')\"\n",
              "              title=\"Convert this dataframe to an interactive table.\"\n",
              "              style=\"display:none;\">\n",
              "        \n",
              "  <svg xmlns=\"http://www.w3.org/2000/svg\" height=\"24px\"viewBox=\"0 0 24 24\"\n",
              "       width=\"24px\">\n",
              "    <path d=\"M0 0h24v24H0V0z\" fill=\"none\"/>\n",
              "    <path d=\"M18.56 5.44l.94 2.06.94-2.06 2.06-.94-2.06-.94-.94-2.06-.94 2.06-2.06.94zm-11 1L8.5 8.5l.94-2.06 2.06-.94-2.06-.94L8.5 2.5l-.94 2.06-2.06.94zm10 10l.94 2.06.94-2.06 2.06-.94-2.06-.94-.94-2.06-.94 2.06-2.06.94z\"/><path d=\"M17.41 7.96l-1.37-1.37c-.4-.4-.92-.59-1.43-.59-.52 0-1.04.2-1.43.59L10.3 9.45l-7.72 7.72c-.78.78-.78 2.05 0 2.83L4 21.41c.39.39.9.59 1.41.59.51 0 1.02-.2 1.41-.59l7.78-7.78 2.81-2.81c.8-.78.8-2.07 0-2.86zM5.41 20L4 18.59l7.72-7.72 1.47 1.35L5.41 20z\"/>\n",
              "  </svg>\n",
              "      </button>\n",
              "      \n",
              "  <style>\n",
              "    .colab-df-container {\n",
              "      display:flex;\n",
              "      flex-wrap:wrap;\n",
              "      gap: 12px;\n",
              "    }\n",
              "\n",
              "    .colab-df-convert {\n",
              "      background-color: #E8F0FE;\n",
              "      border: none;\n",
              "      border-radius: 50%;\n",
              "      cursor: pointer;\n",
              "      display: none;\n",
              "      fill: #1967D2;\n",
              "      height: 32px;\n",
              "      padding: 0 0 0 0;\n",
              "      width: 32px;\n",
              "    }\n",
              "\n",
              "    .colab-df-convert:hover {\n",
              "      background-color: #E2EBFA;\n",
              "      box-shadow: 0px 1px 2px rgba(60, 64, 67, 0.3), 0px 1px 3px 1px rgba(60, 64, 67, 0.15);\n",
              "      fill: #174EA6;\n",
              "    }\n",
              "\n",
              "    [theme=dark] .colab-df-convert {\n",
              "      background-color: #3B4455;\n",
              "      fill: #D2E3FC;\n",
              "    }\n",
              "\n",
              "    [theme=dark] .colab-df-convert:hover {\n",
              "      background-color: #434B5C;\n",
              "      box-shadow: 0px 1px 3px 1px rgba(0, 0, 0, 0.15);\n",
              "      filter: drop-shadow(0px 1px 2px rgba(0, 0, 0, 0.3));\n",
              "      fill: #FFFFFF;\n",
              "    }\n",
              "  </style>\n",
              "\n",
              "      <script>\n",
              "        const buttonEl =\n",
              "          document.querySelector('#df-718887fe-0fe0-443c-9cf5-d2196c5d17b3 button.colab-df-convert');\n",
              "        buttonEl.style.display =\n",
              "          google.colab.kernel.accessAllowed ? 'block' : 'none';\n",
              "\n",
              "        async function convertToInteractive(key) {\n",
              "          const element = document.querySelector('#df-718887fe-0fe0-443c-9cf5-d2196c5d17b3');\n",
              "          const dataTable =\n",
              "            await google.colab.kernel.invokeFunction('convertToInteractive',\n",
              "                                                     [key], {});\n",
              "          if (!dataTable) return;\n",
              "\n",
              "          const docLinkHtml = 'Like what you see? Visit the ' +\n",
              "            '<a target=\"_blank\" href=https://colab.research.google.com/notebooks/data_table.ipynb>data table notebook</a>'\n",
              "            + ' to learn more about interactive tables.';\n",
              "          element.innerHTML = '';\n",
              "          dataTable['output_type'] = 'display_data';\n",
              "          await google.colab.output.renderOutput(dataTable, element);\n",
              "          const docLink = document.createElement('div');\n",
              "          docLink.innerHTML = docLinkHtml;\n",
              "          element.appendChild(docLink);\n",
              "        }\n",
              "      </script>\n",
              "    </div>\n",
              "  </div>\n",
              "  "
            ]
          },
          "metadata": {},
          "execution_count": 56
        }
      ]
    },
    {
      "cell_type": "code",
      "source": [
        "from sklearn.ensemble import StackingRegressor\n",
        "estimators = [ ('gbr', GradientBoostingRegressor(learning_rate = 0.02, max_depth = 4, \n",
        "                                                 n_estimators = 600, subsample = 0.6)),\n",
        "             ('rfr', RandomForestRegressor(bootstrap = 'False', max_depth = 8, max_features = 'sqrt', min_samples_leaf = 1, min_samples_split = 2, n_estimators = 75))]\n",
        "\n",
        "stack = StackingRegressor(estimators = estimators, final_estimator = xgboost.XGBRegressor(colsample_bytree = 0.5, learning_rate = 0.02, max_depth =8, \n",
        "                                                                                          n_estimators = 312, subsample = 0.8) )\n",
        "stack.fit(x_train, y_train.values.ravel())\n"
      ],
      "metadata": {
        "colab": {
          "base_uri": "https://localhost:8080/"
        },
        "id": "reTcm9nbsjjC",
        "outputId": "9f6089db-735a-42d2-8c9d-8ad5041fa66e"
      },
      "execution_count": null,
      "outputs": [
        {
          "output_type": "stream",
          "name": "stdout",
          "text": [
            "[04:01:11] WARNING: /workspace/src/objective/regression_obj.cu:152: reg:linear is now deprecated in favor of reg:squarederror.\n"
          ]
        },
        {
          "output_type": "execute_result",
          "data": {
            "text/plain": [
              "StackingRegressor(estimators=[('gbr',\n",
              "                               GradientBoostingRegressor(learning_rate=0.02,\n",
              "                                                         max_depth=4,\n",
              "                                                         n_estimators=600,\n",
              "                                                         subsample=0.6)),\n",
              "                              ('rfr',\n",
              "                               RandomForestRegressor(bootstrap='False',\n",
              "                                                     max_depth=8,\n",
              "                                                     max_features='sqrt',\n",
              "                                                     n_estimators=75))],\n",
              "                  final_estimator=XGBRegressor(colsample_bytree=0.5,\n",
              "                                               learning_rate=0.02, max_depth=8,\n",
              "                                               n_estimators=312,\n",
              "                                               subsample=0.8))"
            ]
          },
          "metadata": {},
          "execution_count": 57
        }
      ]
    },
    {
      "cell_type": "code",
      "source": [
        "stack_yhat = stack.predict(x_test)\n",
        "\n",
        "print(\"Stack regression accuracy: %.2f\" % r2_score(y_test, stack_yhat) )"
      ],
      "metadata": {
        "colab": {
          "base_uri": "https://localhost:8080/"
        },
        "id": "nvzEvGXJv4aN",
        "outputId": "421f28e2-c11f-48fc-a86a-7510ceace83f"
      },
      "execution_count": null,
      "outputs": [
        {
          "output_type": "stream",
          "name": "stdout",
          "text": [
            "Stack regression accuracy: 0.67\n"
          ]
        }
      ]
    },
    {
      "cell_type": "code",
      "source": [
        "# 'bedrooms', 'bathrooms', 'parkingSpots', 'propertySize',  'distance_SY (km)', 'distance_OT (km)'\n",
        "\n",
        "x = np.array([[4, 2, 1, 100, 3, 5 ]])\n",
        "x = sc.fit_transform(x)\n"
      ],
      "metadata": {
        "id": "qnHoQqtOi2zY"
      },
      "execution_count": null,
      "outputs": []
    },
    {
      "cell_type": "code",
      "source": [
        "y_pred = grid_xgb.predict(x)\n",
        "y_pred"
      ],
      "metadata": {
        "colab": {
          "base_uri": "https://localhost:8080/"
        },
        "id": "G5EpHBYd9CUG",
        "outputId": "fd3de570-27e0-4f6b-f3b0-555759cfc06d"
      },
      "execution_count": null,
      "outputs": [
        {
          "output_type": "execute_result",
          "data": {
            "text/plain": [
              "array([164241.47], dtype=float32)"
            ]
          },
          "metadata": {},
          "execution_count": 91
        }
      ]
    },
    {
      "cell_type": "code",
      "source": [
        "import pickle"
      ],
      "metadata": {
        "id": "02xZ7hVP-zDw"
      },
      "execution_count": null,
      "outputs": []
    },
    {
      "cell_type": "code",
      "source": [
        "data = {\"model\": grid_xgb, \"sc\" : sc}\n",
        "with open('saved_steps.pkl', 'wb') as file:\n",
        "    pickle.dump(data, file)"
      ],
      "metadata": {
        "id": "zX-joLIm_RtG"
      },
      "execution_count": null,
      "outputs": []
    },
    {
      "cell_type": "code",
      "source": [
        "with open('saved_steps.pkl', 'rb') as file:\n",
        "    data = pickle.load(file)\n",
        "\n",
        "regressor_loaded = data[\"model\"]\n",
        "sc = data[\"sc\"]\n"
      ],
      "metadata": {
        "colab": {
          "base_uri": "https://localhost:8080/"
        },
        "id": "w5xGzbn9_kuk",
        "outputId": "a600dc9f-c2fa-4f14-c7a1-d0f94fa69ed5"
      },
      "execution_count": null,
      "outputs": [
        {
          "output_type": "stream",
          "name": "stdout",
          "text": [
            "[04:23:29] WARNING: /workspace/src/objective/regression_obj.cu:152: reg:linear is now deprecated in favor of reg:squarederror.\n"
          ]
        }
      ]
    },
    {
      "cell_type": "code",
      "source": [
        "y_pred = regressor_loaded.predict(x)\n",
        "y_pred"
      ],
      "metadata": {
        "colab": {
          "base_uri": "https://localhost:8080/"
        },
        "id": "UUe2D6Je_u1y",
        "outputId": "773d07d2-793e-42e1-8121-17856f0d02a3"
      },
      "execution_count": null,
      "outputs": [
        {
          "output_type": "execute_result",
          "data": {
            "text/plain": [
              "array([164241.47], dtype=float32)"
            ]
          },
          "metadata": {},
          "execution_count": 97
        }
      ]
    },
    {
      "cell_type": "code",
      "source": [
        ""
      ],
      "metadata": {
        "id": "zkI940x0_4iG"
      },
      "execution_count": null,
      "outputs": []
    }
  ]
}